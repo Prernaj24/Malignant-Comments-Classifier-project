{
 "cells": [
  {
   "cell_type": "code",
   "execution_count": 3,
   "id": "8e53fef6",
   "metadata": {},
   "outputs": [],
   "source": [
    "import pandas as pd\n",
    "import numpy as np\n",
    "import seaborn as sns\n",
    "import matplotlib.pyplot as plt\n",
    "\n",
    "from collections import Counter\n",
    "from string import digits as d, punctuation as p\n",
    "from nltk.tokenize import word_tokenize as wt\n",
    "from nltk.stem import WordNetLemmatizer as wl, PorterStemmer as porter\n",
    "from gensim import corpora\n",
    "\n",
    "from sklearn.feature_extraction.text import TfidfVectorizer as tf\n",
    "from sklearn.model_selection import train_test_split as tts, RandomizedSearchCV as rsv, cross_val_score as cvs\n",
    "from sklearn.metrics import accuracy_score,classification_report,f1_score,auc,roc_curve,roc_auc_score,confusion_matrix,log_loss,\\\n",
    "precision_score,recall_score,mean_squared_error\n",
    "\n",
    "from sklearn.linear_model import LogisticRegression,PassiveAggressiveClassifier\n",
    "from sklearn.naive_bayes import MultinomialNB, ComplementNB\n",
    "from sklearn.svm import LinearSVC\n",
    "from sklearn.pipeline import Pipeline\n",
    "from sklearn.multiclass import OneVsRestClassifier\n",
    "\n",
    "from PIL import Image\n",
    "import requests\n",
    "#from wordcloud import WordCloud\n",
    "\n",
    "import warnings\n",
    "warnings.filterwarnings('ignore')\n",
    "warnings.filterwarnings('ignore',message=\"numpy.dtype size changed\")\n",
    "warnings.filterwarnings('ignore',message=\"numpy.ufunc size changed\")\n",
    "import joblib"
   ]
  },
  {
   "cell_type": "code",
   "execution_count": 1,
   "id": "eb5d98d4",
   "metadata": {},
   "outputs": [
    {
     "name": "stdout",
     "output_type": "stream",
     "text": [
      "C:\\Users\\Prerna Jain\\anaconda3\\python.exe\n"
     ]
    }
   ],
   "source": [
    "import sys\n",
    "print(sys.executable)"
   ]
  },
  {
   "cell_type": "code",
   "execution_count": 4,
   "id": "a1260831",
   "metadata": {},
   "outputs": [
    {
     "ename": "NameError",
     "evalue": "name 'anaconda3' is not defined",
     "output_type": "error",
     "traceback": [
      "\u001b[1;31m---------------------------------------------------------------------------\u001b[0m",
      "\u001b[1;31mNameError\u001b[0m                                 Traceback (most recent call last)",
      "Input \u001b[1;32mIn [4]\u001b[0m, in \u001b[0;36m<cell line: 1>\u001b[1;34m()\u001b[0m\n\u001b[1;32m----> 1\u001b[0m \u001b[43manaconda3\u001b[49m\u001b[38;5;241m/\u001b[39m\u001b[38;5;28mbin\u001b[39m\u001b[38;5;241m/\u001b[39mpython(\u001b[38;5;241m-\u001b[39mm, pip, install, wordcloud, \u001b[38;5;241m-\u001b[39mm, pip, install, some_package)\n",
      "\u001b[1;31mNameError\u001b[0m: name 'anaconda3' is not defined"
     ]
    }
   ],
   "source": [
    "/anaconda3/bin/python -m pip install wordcloud -m pip install some_package\n"
   ]
  },
  {
   "cell_type": "code",
   "execution_count": 5,
   "id": "292e34f1",
   "metadata": {},
   "outputs": [
    {
     "ename": "NameError",
     "evalue": "name 'anaconda3' is not defined",
     "output_type": "error",
     "traceback": [
      "\u001b[1;31m---------------------------------------------------------------------------\u001b[0m",
      "\u001b[1;31mNameError\u001b[0m                                 Traceback (most recent call last)",
      "Input \u001b[1;32mIn [5]\u001b[0m, in \u001b[0;36m<cell line: 1>\u001b[1;34m()\u001b[0m\n\u001b[1;32m----> 1\u001b[0m \u001b[43manaconda3\u001b[49m\u001b[38;5;241m/\u001b[39m\u001b[38;5;28mbin\u001b[39m\u001b[38;5;241m/\u001b[39mpython(\u001b[38;5;241m-\u001b[39mm, pip, install, wordcloud)\n",
      "\u001b[1;31mNameError\u001b[0m: name 'anaconda3' is not defined"
     ]
    }
   ],
   "source": [
    "/anaconda3/bin/python -m pip install wordcloud"
   ]
  },
  {
   "cell_type": "code",
   "execution_count": null,
   "id": "83e6b599",
   "metadata": {},
   "outputs": [],
   "source": []
  },
  {
   "cell_type": "code",
   "execution_count": null,
   "id": "fb0a40f5",
   "metadata": {},
   "outputs": [],
   "source": []
  },
  {
   "cell_type": "code",
   "execution_count": 5,
   "id": "1222aff6",
   "metadata": {},
   "outputs": [
    {
     "data": {
      "text/html": [
       "<div>\n",
       "<style scoped>\n",
       "    .dataframe tbody tr th:only-of-type {\n",
       "        vertical-align: middle;\n",
       "    }\n",
       "\n",
       "    .dataframe tbody tr th {\n",
       "        vertical-align: top;\n",
       "    }\n",
       "\n",
       "    .dataframe thead th {\n",
       "        text-align: right;\n",
       "    }\n",
       "</style>\n",
       "<table border=\"1\" class=\"dataframe\">\n",
       "  <thead>\n",
       "    <tr style=\"text-align: right;\">\n",
       "      <th></th>\n",
       "      <th>id</th>\n",
       "      <th>comment_text</th>\n",
       "      <th>malignant</th>\n",
       "      <th>highly_malignant</th>\n",
       "      <th>rude</th>\n",
       "      <th>threat</th>\n",
       "      <th>abuse</th>\n",
       "      <th>loathe</th>\n",
       "    </tr>\n",
       "  </thead>\n",
       "  <tbody>\n",
       "    <tr>\n",
       "      <th>0</th>\n",
       "      <td>0000997932d777bf</td>\n",
       "      <td>Explanation\\nWhy the edits made under my usern...</td>\n",
       "      <td>0</td>\n",
       "      <td>0</td>\n",
       "      <td>0</td>\n",
       "      <td>0</td>\n",
       "      <td>0</td>\n",
       "      <td>0</td>\n",
       "    </tr>\n",
       "    <tr>\n",
       "      <th>1</th>\n",
       "      <td>000103f0d9cfb60f</td>\n",
       "      <td>D'aww! He matches this background colour I'm s...</td>\n",
       "      <td>0</td>\n",
       "      <td>0</td>\n",
       "      <td>0</td>\n",
       "      <td>0</td>\n",
       "      <td>0</td>\n",
       "      <td>0</td>\n",
       "    </tr>\n",
       "    <tr>\n",
       "      <th>2</th>\n",
       "      <td>000113f07ec002fd</td>\n",
       "      <td>Hey man, I'm really not trying to edit war. It...</td>\n",
       "      <td>0</td>\n",
       "      <td>0</td>\n",
       "      <td>0</td>\n",
       "      <td>0</td>\n",
       "      <td>0</td>\n",
       "      <td>0</td>\n",
       "    </tr>\n",
       "    <tr>\n",
       "      <th>3</th>\n",
       "      <td>0001b41b1c6bb37e</td>\n",
       "      <td>\"\\nMore\\nI can't make any real suggestions on ...</td>\n",
       "      <td>0</td>\n",
       "      <td>0</td>\n",
       "      <td>0</td>\n",
       "      <td>0</td>\n",
       "      <td>0</td>\n",
       "      <td>0</td>\n",
       "    </tr>\n",
       "    <tr>\n",
       "      <th>4</th>\n",
       "      <td>0001d958c54c6e35</td>\n",
       "      <td>You, sir, are my hero. Any chance you remember...</td>\n",
       "      <td>0</td>\n",
       "      <td>0</td>\n",
       "      <td>0</td>\n",
       "      <td>0</td>\n",
       "      <td>0</td>\n",
       "      <td>0</td>\n",
       "    </tr>\n",
       "  </tbody>\n",
       "</table>\n",
       "</div>"
      ],
      "text/plain": [
       "                 id                                       comment_text  \\\n",
       "0  0000997932d777bf  Explanation\\nWhy the edits made under my usern...   \n",
       "1  000103f0d9cfb60f  D'aww! He matches this background colour I'm s...   \n",
       "2  000113f07ec002fd  Hey man, I'm really not trying to edit war. It...   \n",
       "3  0001b41b1c6bb37e  \"\\nMore\\nI can't make any real suggestions on ...   \n",
       "4  0001d958c54c6e35  You, sir, are my hero. Any chance you remember...   \n",
       "\n",
       "   malignant  highly_malignant  rude  threat  abuse  loathe  \n",
       "0          0                 0     0       0      0       0  \n",
       "1          0                 0     0       0      0       0  \n",
       "2          0                 0     0       0      0       0  \n",
       "3          0                 0     0       0      0       0  \n",
       "4          0                 0     0       0      0       0  "
      ]
     },
     "execution_count": 5,
     "metadata": {},
     "output_type": "execute_result"
    }
   ],
   "source": [
    "# Loading the training data..\n",
    "df=pd.read_csv('train.csv')\n",
    "df.head()"
   ]
  },
  {
   "cell_type": "code",
   "execution_count": 6,
   "id": "d6655dfe",
   "metadata": {},
   "outputs": [
    {
     "data": {
      "text/html": [
       "<div>\n",
       "<style scoped>\n",
       "    .dataframe tbody tr th:only-of-type {\n",
       "        vertical-align: middle;\n",
       "    }\n",
       "\n",
       "    .dataframe tbody tr th {\n",
       "        vertical-align: top;\n",
       "    }\n",
       "\n",
       "    .dataframe thead th {\n",
       "        text-align: right;\n",
       "    }\n",
       "</style>\n",
       "<table border=\"1\" class=\"dataframe\">\n",
       "  <thead>\n",
       "    <tr style=\"text-align: right;\">\n",
       "      <th></th>\n",
       "      <th>id</th>\n",
       "      <th>comment_text</th>\n",
       "    </tr>\n",
       "  </thead>\n",
       "  <tbody>\n",
       "    <tr>\n",
       "      <th>0</th>\n",
       "      <td>00001cee341fdb12</td>\n",
       "      <td>Yo bitch Ja Rule is more succesful then you'll...</td>\n",
       "    </tr>\n",
       "    <tr>\n",
       "      <th>1</th>\n",
       "      <td>0000247867823ef7</td>\n",
       "      <td>== From RfC == \\n\\n The title is fine as it is...</td>\n",
       "    </tr>\n",
       "    <tr>\n",
       "      <th>2</th>\n",
       "      <td>00013b17ad220c46</td>\n",
       "      <td>\" \\n\\n == Sources == \\n\\n * Zawe Ashton on Lap...</td>\n",
       "    </tr>\n",
       "    <tr>\n",
       "      <th>3</th>\n",
       "      <td>00017563c3f7919a</td>\n",
       "      <td>:If you have a look back at the source, the in...</td>\n",
       "    </tr>\n",
       "    <tr>\n",
       "      <th>4</th>\n",
       "      <td>00017695ad8997eb</td>\n",
       "      <td>I don't anonymously edit articles at all.</td>\n",
       "    </tr>\n",
       "  </tbody>\n",
       "</table>\n",
       "</div>"
      ],
      "text/plain": [
       "                 id                                       comment_text\n",
       "0  00001cee341fdb12  Yo bitch Ja Rule is more succesful then you'll...\n",
       "1  0000247867823ef7  == From RfC == \\n\\n The title is fine as it is...\n",
       "2  00013b17ad220c46  \" \\n\\n == Sources == \\n\\n * Zawe Ashton on Lap...\n",
       "3  00017563c3f7919a  :If you have a look back at the source, the in...\n",
       "4  00017695ad8997eb          I don't anonymously edit articles at all."
      ]
     },
     "execution_count": 6,
     "metadata": {},
     "output_type": "execute_result"
    }
   ],
   "source": [
    "# Loading the test data..\n",
    "test=pd.read_csv('test.csv')\n",
    "test.head()"
   ]
  },
  {
   "cell_type": "code",
   "execution_count": 7,
   "id": "f45f43ca",
   "metadata": {},
   "outputs": [
    {
     "name": "stdout",
     "output_type": "stream",
     "text": [
      "In the training dataset\n",
      "Number of columns= 8 \n",
      "Number of Rows= 159571 \n",
      "Name of columns=\n",
      " ['id' 'comment_text' 'malignant' 'highly_malignant' 'rude' 'threat'\n",
      " 'abuse' 'loathe']\n"
     ]
    }
   ],
   "source": [
    "print(\"In the training dataset\\nNumber of columns=\",df.shape[1],'\\nNumber of Rows=',df.shape[0],'\\nName of columns=\\n',df.columns.values)"
   ]
  },
  {
   "cell_type": "code",
   "execution_count": 8,
   "id": "fa46b72f",
   "metadata": {},
   "outputs": [
    {
     "name": "stdout",
     "output_type": "stream",
     "text": [
      "In the test dataset\n",
      "Number of columns= 2 \n",
      "Number of Rows= 153164 \n",
      "Name of columns=\n",
      " ['id' 'comment_text']\n"
     ]
    }
   ],
   "source": [
    "print(\"In the test dataset\\nNumber of columns=\",test.shape[1],'\\nNumber of Rows=',test.shape[0],'\\nName of columns=\\n',test.columns.values)"
   ]
  },
  {
   "cell_type": "code",
   "execution_count": 9,
   "id": "21e74d65",
   "metadata": {},
   "outputs": [
    {
     "name": "stdout",
     "output_type": "stream",
     "text": [
      "Number of duplicated values:- 0\n"
     ]
    }
   ],
   "source": [
    "#checking if there is any duplicated values in training dataset\n",
    "print('Number of duplicated values:-',df.duplicated().sum())"
   ]
  },
  {
   "cell_type": "code",
   "execution_count": 10,
   "id": "64360918",
   "metadata": {},
   "outputs": [
    {
     "name": "stdout",
     "output_type": "stream",
     "text": [
      "Number of duplicated values:- 0\n"
     ]
    }
   ],
   "source": [
    "#checking if there is any duplicated values in test dataset\n",
    "print('Number of duplicated values:-',test.duplicated().sum())"
   ]
  },
  {
   "cell_type": "code",
   "execution_count": 11,
   "id": "9aea2d46",
   "metadata": {},
   "outputs": [
    {
     "name": "stdout",
     "output_type": "stream",
     "text": [
      "There are no null values in  'id'\n",
      "There are no null values in  'comment_text'\n",
      "There are no null values in  'malignant'\n",
      "There are no null values in  'highly_malignant'\n",
      "There are no null values in  'rude'\n",
      "There are no null values in  'threat'\n",
      "There are no null values in  'abuse'\n",
      "There are no null values in  'loathe'\n"
     ]
    }
   ],
   "source": [
    "#checking for null values in training dataset\n",
    "for i in df.columns:\n",
    "    null=df[i].isnull().sum()\n",
    "    if null>0:\n",
    "        print('Number of Null Values At  '+\"'\"+ i+\"'\" ,'==  ',null )\n",
    "    else:\n",
    "        print('There are no null values in  '+\"'\"+ i+\"'\")"
   ]
  },
  {
   "cell_type": "code",
   "execution_count": 12,
   "id": "d9783558",
   "metadata": {},
   "outputs": [
    {
     "name": "stdout",
     "output_type": "stream",
     "text": [
      "There are no null values in  'id'\n",
      "There are no null values in  'comment_text'\n"
     ]
    }
   ],
   "source": [
    "#checking for null values in test dataset\n",
    "for i in test.columns:\n",
    "    null=test[i].isnull().sum()\n",
    "    if null>0:\n",
    "        print('Number of Null Values At  '+\"'\"+ i+\"'\" ,'==  ',null )\n",
    "    else:\n",
    "        print('There are no null values in  '+\"'\"+ i+\"'\")"
   ]
  },
  {
   "cell_type": "code",
   "execution_count": 13,
   "id": "b9400d96",
   "metadata": {},
   "outputs": [
    {
     "data": {
      "image/png": "[encoded data removed]",
      "text/plain": [
       "<Figure size 1440x480 with 2 Axes>"
      ]
     },
     "metadata": {},
     "output_type": "display_data"
    }
   ],
   "source": [
    "#heatmap of null values\n",
    "sns.set(context='talk',style='whitegrid',palette='dark',font='monospace',font_scale=0.8)\n",
    "plt.figure(figsize=(12,4),dpi=120)\n",
    "sns.heatmap(df.isnull(),cmap='Accent')\n",
    "plt.show()"
   ]
  },
  {
   "cell_type": "markdown",
   "id": "707a293f",
   "metadata": {},
   "source": [
    "Their is no null value in the dataset."
   ]
  },
  {
   "cell_type": "code",
   "execution_count": 14,
   "id": "08245800",
   "metadata": {},
   "outputs": [],
   "source": [
    "#dropping unwanted columns as we'll be working on the comment_text and their categories_\n",
    "cmt=df.copy()\n",
    "cmt.drop(['id'],axis=1,inplace=True)"
   ]
  },
  {
   "cell_type": "code",
   "execution_count": 15,
   "id": "714f1ad0",
   "metadata": {},
   "outputs": [],
   "source": [
    "test.drop(['id'],axis=1,inplace=True)"
   ]
  },
  {
   "cell_type": "code",
   "execution_count": 16,
   "id": "0287e46a",
   "metadata": {},
   "outputs": [],
   "source": [
    "#adding a new column which represent a normal statement\n",
    "\n",
    "labels= ['malignant','highly_malignant','rude','threat','abuse','loathe']\n",
    "cmt['normal']=1-cmt[labels].max(axis=1)"
   ]
  },
  {
   "cell_type": "code",
   "execution_count": 17,
   "id": "4aa88175",
   "metadata": {},
   "outputs": [
    {
     "data": {
      "text/html": [
       "<div>\n",
       "<style scoped>\n",
       "    .dataframe tbody tr th:only-of-type {\n",
       "        vertical-align: middle;\n",
       "    }\n",
       "\n",
       "    .dataframe tbody tr th {\n",
       "        vertical-align: top;\n",
       "    }\n",
       "\n",
       "    .dataframe thead th {\n",
       "        text-align: right;\n",
       "    }\n",
       "</style>\n",
       "<table border=\"1\" class=\"dataframe\">\n",
       "  <thead>\n",
       "    <tr style=\"text-align: right;\">\n",
       "      <th></th>\n",
       "      <th>comment_text</th>\n",
       "      <th>malignant</th>\n",
       "      <th>highly_malignant</th>\n",
       "      <th>rude</th>\n",
       "      <th>threat</th>\n",
       "      <th>abuse</th>\n",
       "      <th>loathe</th>\n",
       "      <th>normal</th>\n",
       "    </tr>\n",
       "  </thead>\n",
       "  <tbody>\n",
       "    <tr>\n",
       "      <th>0</th>\n",
       "      <td>Explanation\\nWhy the edits made under my usern...</td>\n",
       "      <td>0</td>\n",
       "      <td>0</td>\n",
       "      <td>0</td>\n",
       "      <td>0</td>\n",
       "      <td>0</td>\n",
       "      <td>0</td>\n",
       "      <td>1</td>\n",
       "    </tr>\n",
       "    <tr>\n",
       "      <th>1</th>\n",
       "      <td>D'aww! He matches this background colour I'm s...</td>\n",
       "      <td>0</td>\n",
       "      <td>0</td>\n",
       "      <td>0</td>\n",
       "      <td>0</td>\n",
       "      <td>0</td>\n",
       "      <td>0</td>\n",
       "      <td>1</td>\n",
       "    </tr>\n",
       "    <tr>\n",
       "      <th>2</th>\n",
       "      <td>Hey man, I'm really not trying to edit war. It...</td>\n",
       "      <td>0</td>\n",
       "      <td>0</td>\n",
       "      <td>0</td>\n",
       "      <td>0</td>\n",
       "      <td>0</td>\n",
       "      <td>0</td>\n",
       "      <td>1</td>\n",
       "    </tr>\n",
       "    <tr>\n",
       "      <th>3</th>\n",
       "      <td>\"\\nMore\\nI can't make any real suggestions on ...</td>\n",
       "      <td>0</td>\n",
       "      <td>0</td>\n",
       "      <td>0</td>\n",
       "      <td>0</td>\n",
       "      <td>0</td>\n",
       "      <td>0</td>\n",
       "      <td>1</td>\n",
       "    </tr>\n",
       "    <tr>\n",
       "      <th>4</th>\n",
       "      <td>You, sir, are my hero. Any chance you remember...</td>\n",
       "      <td>0</td>\n",
       "      <td>0</td>\n",
       "      <td>0</td>\n",
       "      <td>0</td>\n",
       "      <td>0</td>\n",
       "      <td>0</td>\n",
       "      <td>1</td>\n",
       "    </tr>\n",
       "    <tr>\n",
       "      <th>5</th>\n",
       "      <td>\"\\n\\nCongratulations from me as well, use the ...</td>\n",
       "      <td>0</td>\n",
       "      <td>0</td>\n",
       "      <td>0</td>\n",
       "      <td>0</td>\n",
       "      <td>0</td>\n",
       "      <td>0</td>\n",
       "      <td>1</td>\n",
       "    </tr>\n",
       "    <tr>\n",
       "      <th>6</th>\n",
       "      <td>COCKSUCKER BEFORE YOU PISS AROUND ON MY WORK</td>\n",
       "      <td>1</td>\n",
       "      <td>1</td>\n",
       "      <td>1</td>\n",
       "      <td>0</td>\n",
       "      <td>1</td>\n",
       "      <td>0</td>\n",
       "      <td>0</td>\n",
       "    </tr>\n",
       "  </tbody>\n",
       "</table>\n",
       "</div>"
      ],
      "text/plain": [
       "                                        comment_text  malignant  \\\n",
       "0  Explanation\\nWhy the edits made under my usern...          0   \n",
       "1  D'aww! He matches this background colour I'm s...          0   \n",
       "2  Hey man, I'm really not trying to edit war. It...          0   \n",
       "3  \"\\nMore\\nI can't make any real suggestions on ...          0   \n",
       "4  You, sir, are my hero. Any chance you remember...          0   \n",
       "5  \"\\n\\nCongratulations from me as well, use the ...          0   \n",
       "6       COCKSUCKER BEFORE YOU PISS AROUND ON MY WORK          1   \n",
       "\n",
       "   highly_malignant  rude  threat  abuse  loathe  normal  \n",
       "0                 0     0       0      0       0       1  \n",
       "1                 0     0       0      0       0       1  \n",
       "2                 0     0       0      0       0       1  \n",
       "3                 0     0       0      0       0       1  \n",
       "4                 0     0       0      0       0       1  \n",
       "5                 0     0       0      0       0       1  \n",
       "6                 1     1       0      1       0       0  "
      ]
     },
     "execution_count": 17,
     "metadata": {},
     "output_type": "execute_result"
    }
   ],
   "source": [
    "cmt.head(7)"
   ]
  },
  {
   "cell_type": "code",
   "execution_count": 18,
   "id": "8feeb0ed",
   "metadata": {},
   "outputs": [
    {
     "data": {
      "text/html": [
       "<div>\n",
       "<style scoped>\n",
       "    .dataframe tbody tr th:only-of-type {\n",
       "        vertical-align: middle;\n",
       "    }\n",
       "\n",
       "    .dataframe tbody tr th {\n",
       "        vertical-align: top;\n",
       "    }\n",
       "\n",
       "    .dataframe thead th {\n",
       "        text-align: right;\n",
       "    }\n",
       "</style>\n",
       "<table border=\"1\" class=\"dataframe\">\n",
       "  <thead>\n",
       "    <tr style=\"text-align: right;\">\n",
       "      <th></th>\n",
       "      <th>comment_text</th>\n",
       "      <th>malignant</th>\n",
       "      <th>highly_malignant</th>\n",
       "      <th>rude</th>\n",
       "      <th>threat</th>\n",
       "      <th>abuse</th>\n",
       "      <th>loathe</th>\n",
       "      <th>normal</th>\n",
       "      <th>raw length</th>\n",
       "    </tr>\n",
       "  </thead>\n",
       "  <tbody>\n",
       "    <tr>\n",
       "      <th>0</th>\n",
       "      <td>Explanation\\nWhy the edits made under my usern...</td>\n",
       "      <td>0</td>\n",
       "      <td>0</td>\n",
       "      <td>0</td>\n",
       "      <td>0</td>\n",
       "      <td>0</td>\n",
       "      <td>0</td>\n",
       "      <td>1</td>\n",
       "      <td>264</td>\n",
       "    </tr>\n",
       "    <tr>\n",
       "      <th>1</th>\n",
       "      <td>D'aww! He matches this background colour I'm s...</td>\n",
       "      <td>0</td>\n",
       "      <td>0</td>\n",
       "      <td>0</td>\n",
       "      <td>0</td>\n",
       "      <td>0</td>\n",
       "      <td>0</td>\n",
       "      <td>1</td>\n",
       "      <td>112</td>\n",
       "    </tr>\n",
       "    <tr>\n",
       "      <th>2</th>\n",
       "      <td>Hey man, I'm really not trying to edit war. It...</td>\n",
       "      <td>0</td>\n",
       "      <td>0</td>\n",
       "      <td>0</td>\n",
       "      <td>0</td>\n",
       "      <td>0</td>\n",
       "      <td>0</td>\n",
       "      <td>1</td>\n",
       "      <td>233</td>\n",
       "    </tr>\n",
       "    <tr>\n",
       "      <th>3</th>\n",
       "      <td>\"\\nMore\\nI can't make any real suggestions on ...</td>\n",
       "      <td>0</td>\n",
       "      <td>0</td>\n",
       "      <td>0</td>\n",
       "      <td>0</td>\n",
       "      <td>0</td>\n",
       "      <td>0</td>\n",
       "      <td>1</td>\n",
       "      <td>622</td>\n",
       "    </tr>\n",
       "    <tr>\n",
       "      <th>4</th>\n",
       "      <td>You, sir, are my hero. Any chance you remember...</td>\n",
       "      <td>0</td>\n",
       "      <td>0</td>\n",
       "      <td>0</td>\n",
       "      <td>0</td>\n",
       "      <td>0</td>\n",
       "      <td>0</td>\n",
       "      <td>1</td>\n",
       "      <td>67</td>\n",
       "    </tr>\n",
       "    <tr>\n",
       "      <th>5</th>\n",
       "      <td>\"\\n\\nCongratulations from me as well, use the ...</td>\n",
       "      <td>0</td>\n",
       "      <td>0</td>\n",
       "      <td>0</td>\n",
       "      <td>0</td>\n",
       "      <td>0</td>\n",
       "      <td>0</td>\n",
       "      <td>1</td>\n",
       "      <td>65</td>\n",
       "    </tr>\n",
       "    <tr>\n",
       "      <th>6</th>\n",
       "      <td>COCKSUCKER BEFORE YOU PISS AROUND ON MY WORK</td>\n",
       "      <td>1</td>\n",
       "      <td>1</td>\n",
       "      <td>1</td>\n",
       "      <td>0</td>\n",
       "      <td>1</td>\n",
       "      <td>0</td>\n",
       "      <td>0</td>\n",
       "      <td>44</td>\n",
       "    </tr>\n",
       "  </tbody>\n",
       "</table>\n",
       "</div>"
      ],
      "text/plain": [
       "                                        comment_text  malignant  \\\n",
       "0  Explanation\\nWhy the edits made under my usern...          0   \n",
       "1  D'aww! He matches this background colour I'm s...          0   \n",
       "2  Hey man, I'm really not trying to edit war. It...          0   \n",
       "3  \"\\nMore\\nI can't make any real suggestions on ...          0   \n",
       "4  You, sir, are my hero. Any chance you remember...          0   \n",
       "5  \"\\n\\nCongratulations from me as well, use the ...          0   \n",
       "6       COCKSUCKER BEFORE YOU PISS AROUND ON MY WORK          1   \n",
       "\n",
       "   highly_malignant  rude  threat  abuse  loathe  normal  raw length  \n",
       "0                 0     0       0      0       0       1         264  \n",
       "1                 0     0       0      0       0       1         112  \n",
       "2                 0     0       0      0       0       1         233  \n",
       "3                 0     0       0      0       0       1         622  \n",
       "4                 0     0       0      0       0       1          67  \n",
       "5                 0     0       0      0       0       1          65  \n",
       "6                 1     1       0      1       0       0          44  "
      ]
     },
     "execution_count": 18,
     "metadata": {},
     "output_type": "execute_result"
    }
   ],
   "source": [
    "#adding a column 'raw length' to the dataset which will show the length of characters in column 'comment_text'\n",
    "cmt['raw length']= cmt.comment_text.str.len().astype('int64')\n",
    "cmt.head(7)"
   ]
  },
  {
   "cell_type": "code",
   "execution_count": 19,
   "id": "a36a23d3",
   "metadata": {},
   "outputs": [
    {
     "name": "stdout",
     "output_type": "stream",
     "text": [
      "VALUE COUNT OF UNIQUE VALUES IN 'malignant' :\n",
      "  0    144277\n",
      "1     15294\n",
      "Name: malignant, dtype: int64 \n",
      "\n",
      "VALUE COUNT OF UNIQUE VALUES IN 'highly_malignant' :\n",
      "  0    157976\n",
      "1      1595\n",
      "Name: highly_malignant, dtype: int64 \n",
      "\n",
      "VALUE COUNT OF UNIQUE VALUES IN 'rude' :\n",
      "  0    151122\n",
      "1      8449\n",
      "Name: rude, dtype: int64 \n",
      "\n",
      "VALUE COUNT OF UNIQUE VALUES IN 'threat' :\n",
      "  0    159093\n",
      "1       478\n",
      "Name: threat, dtype: int64 \n",
      "\n",
      "VALUE COUNT OF UNIQUE VALUES IN 'abuse' :\n",
      "  0    151694\n",
      "1      7877\n",
      "Name: abuse, dtype: int64 \n",
      "\n",
      "VALUE COUNT OF UNIQUE VALUES IN 'loathe' :\n",
      "  0    158166\n",
      "1      1405\n",
      "Name: loathe, dtype: int64 \n",
      "\n"
     ]
    }
   ],
   "source": [
    "#value counts of  label columns\n",
    "values=['malignant','highly_malignant','rude','threat','abuse','loathe']\n",
    "for i in values:\n",
    "    vc=cmt[i].value_counts()\n",
    "    print('VALUE COUNT OF UNIQUE VALUES IN ' +\"'\"+ i+\"' :\\n \",vc,'\\n')"
   ]
  },
  {
   "cell_type": "code",
   "execution_count": 20,
   "id": "6ed261f1",
   "metadata": {},
   "outputs": [
    {
     "data": {
      "image/png": "[encoded data removed]",
      "text/plain": [
       "<Figure size 600x600 with 1 Axes>"
      ]
     },
     "metadata": {},
     "output_type": "display_data"
    }
   ],
   "source": [
    "#Pie plot to show the percentage of toxic and normal comment\n",
    "values=[cmt.shape[0]-cmt.normal.sum(),cmt.normal.sum()]\n",
    "label=['toxic','normal']\n",
    "exp=(0.025,0)\n",
    "clr=('orange','lime')\n",
    "plt.figure(figsize=(5,5),dpi=120)\n",
    "sns.set_context('talk',font_scale=0.4)\n",
    "sns.set(style='whitegrid')\n",
    "plt.pie(x=values,explode=exp,labels=label,colors=clr,autopct='%2.0f%%',pctdistance=0.5, shadow=True,radius=1)\n",
    "plt.legend(fancybox=True, framealpha=0.9, shadow=True, borderpad=0.7,bbox_to_anchor=(0., 1.02, 1., .102),ncol=2, mode=\"expand\", borderaxespad=0.1)\n",
    "plt.show()"
   ]
  },
  {
   "cell_type": "code",
   "execution_count": 21,
   "id": "a7693137",
   "metadata": {},
   "outputs": [
    {
     "data": {
      "text/plain": [
       "highly_malignant      1595\n",
       "rude                  8449\n",
       "threat                 478\n",
       "abuse                 7877\n",
       "loathe                1405\n",
       "normal              143346\n",
       "dtype: int64"
      ]
     },
     "execution_count": 21,
     "metadata": {},
     "output_type": "execute_result"
    }
   ],
   "source": [
    "#COUNT OF DIFFERENT LABELS\n",
    "x=cmt.iloc[:,2:-1].sum()\n",
    "x"
   ]
  },
  {
   "cell_type": "code",
   "execution_count": 22,
   "id": "ff2404e0",
   "metadata": {},
   "outputs": [
    {
     "data": {
      "image/png": "[encoded data removed]",
      "text/plain": [
       "<Figure size 1800x600 with 1 Axes>"
      ]
     },
     "metadata": {},
     "output_type": "display_data"
    }
   ],
   "source": [
    "#COUNT OF LABELS\n",
    "x=cmt.iloc[:,2:-1].sum() #not including comment_text and raw length column\n",
    "plt.figure(figsize=(15,5),dpi=120)\n",
    "sns.set_context('talk',font_scale=0.4)\n",
    "sns.set(style='whitegrid')\n",
    "ax= sns.barplot(x.index, x.values, alpha=0.8)\n",
    "plt.title(\"COUNT OF DIFFERENT KIND OF COMMENTS\")\n",
    "plt.ylabel('NUMBER OF COMMENTS\\n', fontsize=12,weight='bold')\n",
    "plt.xlabel('\\nTYPE OF COMMENTS ', fontsize=12,weight='bold')\n",
    "rects = ax.patches\n",
    "labels = x.values\n",
    "for rect, label in zip(rects, labels):\n",
    "    height = rect.get_height()\n",
    "    ax.text(rect.get_x() + rect.get_width()/2, height + 5, label, ha='center', va='bottom')\n",
    "plt.show()"
   ]
  },
  {
   "cell_type": "code",
   "execution_count": 23,
   "id": "1cfebccd",
   "metadata": {},
   "outputs": [
    {
     "data": {
      "text/plain": [
       "1    147303\n",
       "0      5666\n",
       "2      4406\n",
       "3      1780\n",
       "4       385\n",
       "5        31\n",
       "dtype: int64"
      ]
     },
     "execution_count": 23,
     "metadata": {},
     "output_type": "execute_result"
    }
   ],
   "source": [
    "#CHECKING THE COUNT OF COMMENTS WITH 1 OR MORE THAN 1 LABELS\n",
    "summation=cmt.iloc[:,2:-1].sum(axis=1) #not including comment_text and raw length column\n",
    "vc=summation.value_counts()\n",
    "vc"
   ]
  },
  {
   "cell_type": "code",
   "execution_count": 24,
   "id": "8c86c680",
   "metadata": {},
   "outputs": [
    {
     "data": {
      "image/png": "[encoded data removed]",
      "text/plain": [
       "<Figure size 1800x600 with 1 Axes>"
      ]
     },
     "metadata": {},
     "output_type": "display_data"
    }
   ],
   "source": [
    "#PLOTTING NUMBERS OF COMMENTS WITH 1 OR MORE THAN 1 LABELS\n",
    "\n",
    "plt.figure(figsize=(15,5),dpi=120)\n",
    "sns.set_context('talk',font_scale=0.4)\n",
    "sns.set(style='whitegrid')\n",
    "ax=sns.barplot(x=vc.index, y=vc.values, alpha=0.8,color='blue')\n",
    "plt.title(\"Multiple tags per comment\")\n",
    "plt.ylabel('# of Occurrences', fontsize=12)\n",
    "plt.xlabel('# of tags ', fontsize=12)\n",
    "rects = ax.patches\n",
    "labels = vc.values\n",
    "for rect, label in zip(rects, labels):\n",
    "    height = rect.get_height()\n",
    "    ax.text(rect.get_x() + rect.get_width()/2, height + 5, label, ha='center', va='bottom')\n",
    "\n",
    "plt.show()"
   ]
  },
  {
   "cell_type": "code",
   "execution_count": 25,
   "id": "0cb5f302",
   "metadata": {},
   "outputs": [
    {
     "name": "stdout",
     "output_type": "stream",
     "text": [
      "<class 'pandas.core.frame.DataFrame'>\n",
      "RangeIndex: 159571 entries, 0 to 159570\n",
      "Data columns (total 9 columns):\n",
      " #   Column            Non-Null Count   Dtype \n",
      "---  ------            --------------   ----- \n",
      " 0   comment_text      159571 non-null  object\n",
      " 1   malignant         159571 non-null  int64 \n",
      " 2   highly_malignant  159571 non-null  int64 \n",
      " 3   rude              159571 non-null  int64 \n",
      " 4   threat            159571 non-null  int64 \n",
      " 5   abuse             159571 non-null  int64 \n",
      " 6   loathe            159571 non-null  int64 \n",
      " 7   normal            159571 non-null  int64 \n",
      " 8   raw length        159571 non-null  int64 \n",
      "dtypes: int64(8), object(1)\n",
      "memory usage: 11.0+ MB\n"
     ]
    }
   ],
   "source": [
    "cmt.info()"
   ]
  },
  {
   "cell_type": "code",
   "execution_count": 26,
   "id": "06a3abe2",
   "metadata": {},
   "outputs": [
    {
     "name": "stdout",
     "output_type": "stream",
     "text": [
      "<class 'pandas.core.frame.DataFrame'>\n",
      "RangeIndex: 153164 entries, 0 to 153163\n",
      "Data columns (total 1 columns):\n",
      " #   Column        Non-Null Count   Dtype \n",
      "---  ------        --------------   ----- \n",
      " 0   comment_text  153164 non-null  object\n",
      "dtypes: object(1)\n",
      "memory usage: 1.2+ MB\n"
     ]
    }
   ],
   "source": [
    "test.info()"
   ]
  },
  {
   "cell_type": "code",
   "execution_count": 28,
   "id": "7273591a",
   "metadata": {},
   "outputs": [
    {
     "data": {
      "text/html": [
       "<div>\n",
       "<style scoped>\n",
       "    .dataframe tbody tr th:only-of-type {\n",
       "        vertical-align: middle;\n",
       "    }\n",
       "\n",
       "    .dataframe tbody tr th {\n",
       "        vertical-align: top;\n",
       "    }\n",
       "\n",
       "    .dataframe thead th {\n",
       "        text-align: right;\n",
       "    }\n",
       "</style>\n",
       "<table border=\"1\" class=\"dataframe\">\n",
       "  <thead>\n",
       "    <tr style=\"text-align: right;\">\n",
       "      <th></th>\n",
       "      <th>malignant</th>\n",
       "      <th>highly_malignant</th>\n",
       "      <th>rude</th>\n",
       "      <th>threat</th>\n",
       "      <th>abuse</th>\n",
       "      <th>loathe</th>\n",
       "      <th>normal</th>\n",
       "      <th>raw length</th>\n",
       "    </tr>\n",
       "  </thead>\n",
       "  <tbody>\n",
       "    <tr>\n",
       "      <th>count</th>\n",
       "      <td>159571.000000</td>\n",
       "      <td>159571.000000</td>\n",
       "      <td>159571.000000</td>\n",
       "      <td>159571.000000</td>\n",
       "      <td>159571.000000</td>\n",
       "      <td>159571.000000</td>\n",
       "      <td>159571.000000</td>\n",
       "      <td>159571.000000</td>\n",
       "    </tr>\n",
       "    <tr>\n",
       "      <th>mean</th>\n",
       "      <td>0.095844</td>\n",
       "      <td>0.009996</td>\n",
       "      <td>0.052948</td>\n",
       "      <td>0.002996</td>\n",
       "      <td>0.049364</td>\n",
       "      <td>0.008805</td>\n",
       "      <td>0.898321</td>\n",
       "      <td>394.138847</td>\n",
       "    </tr>\n",
       "    <tr>\n",
       "      <th>std</th>\n",
       "      <td>0.294379</td>\n",
       "      <td>0.099477</td>\n",
       "      <td>0.223931</td>\n",
       "      <td>0.054650</td>\n",
       "      <td>0.216627</td>\n",
       "      <td>0.093420</td>\n",
       "      <td>0.302226</td>\n",
       "      <td>590.725381</td>\n",
       "    </tr>\n",
       "    <tr>\n",
       "      <th>min</th>\n",
       "      <td>0.000000</td>\n",
       "      <td>0.000000</td>\n",
       "      <td>0.000000</td>\n",
       "      <td>0.000000</td>\n",
       "      <td>0.000000</td>\n",
       "      <td>0.000000</td>\n",
       "      <td>0.000000</td>\n",
       "      <td>5.000000</td>\n",
       "    </tr>\n",
       "    <tr>\n",
       "      <th>25%</th>\n",
       "      <td>0.000000</td>\n",
       "      <td>0.000000</td>\n",
       "      <td>0.000000</td>\n",
       "      <td>0.000000</td>\n",
       "      <td>0.000000</td>\n",
       "      <td>0.000000</td>\n",
       "      <td>1.000000</td>\n",
       "      <td>96.000000</td>\n",
       "    </tr>\n",
       "    <tr>\n",
       "      <th>50%</th>\n",
       "      <td>0.000000</td>\n",
       "      <td>0.000000</td>\n",
       "      <td>0.000000</td>\n",
       "      <td>0.000000</td>\n",
       "      <td>0.000000</td>\n",
       "      <td>0.000000</td>\n",
       "      <td>1.000000</td>\n",
       "      <td>205.000000</td>\n",
       "    </tr>\n",
       "    <tr>\n",
       "      <th>75%</th>\n",
       "      <td>0.000000</td>\n",
       "      <td>0.000000</td>\n",
       "      <td>0.000000</td>\n",
       "      <td>0.000000</td>\n",
       "      <td>0.000000</td>\n",
       "      <td>0.000000</td>\n",
       "      <td>1.000000</td>\n",
       "      <td>436.000000</td>\n",
       "    </tr>\n",
       "    <tr>\n",
       "      <th>max</th>\n",
       "      <td>1.000000</td>\n",
       "      <td>1.000000</td>\n",
       "      <td>1.000000</td>\n",
       "      <td>1.000000</td>\n",
       "      <td>1.000000</td>\n",
       "      <td>1.000000</td>\n",
       "      <td>1.000000</td>\n",
       "      <td>5000.000000</td>\n",
       "    </tr>\n",
       "  </tbody>\n",
       "</table>\n",
       "</div>"
      ],
      "text/plain": [
       "           malignant  highly_malignant           rude         threat  \\\n",
       "count  159571.000000     159571.000000  159571.000000  159571.000000   \n",
       "mean        0.095844          0.009996       0.052948       0.002996   \n",
       "std         0.294379          0.099477       0.223931       0.054650   \n",
       "min         0.000000          0.000000       0.000000       0.000000   \n",
       "25%         0.000000          0.000000       0.000000       0.000000   \n",
       "50%         0.000000          0.000000       0.000000       0.000000   \n",
       "75%         0.000000          0.000000       0.000000       0.000000   \n",
       "max         1.000000          1.000000       1.000000       1.000000   \n",
       "\n",
       "               abuse         loathe         normal     raw length  \n",
       "count  159571.000000  159571.000000  159571.000000  159571.000000  \n",
       "mean        0.049364       0.008805       0.898321     394.138847  \n",
       "std         0.216627       0.093420       0.302226     590.725381  \n",
       "min         0.000000       0.000000       0.000000       5.000000  \n",
       "25%         0.000000       0.000000       1.000000      96.000000  \n",
       "50%         0.000000       0.000000       1.000000     205.000000  \n",
       "75%         0.000000       0.000000       1.000000     436.000000  \n",
       "max         1.000000       1.000000       1.000000    5000.000000  "
      ]
     },
     "execution_count": 28,
     "metadata": {},
     "output_type": "execute_result"
    }
   ],
   "source": [
    "cmt.describe()"
   ]
  },
  {
   "cell_type": "code",
   "execution_count": 29,
   "id": "3e116020",
   "metadata": {},
   "outputs": [],
   "source": [
    "#CREATING A FUNCTION TO PERFORM ASERIES OF OPERATIONS\n",
    "\n",
    "def preprocess(text):\n",
    "    processed=[]\n",
    "    lower=text.lower().replace(r'\\n',\" \").replace(r'^.+@[^\\.].*\\.[a-z]{2,}$',' ').replace(r'^http://[a-zA-Z0-9\\-\\.]+\\.[a-zA-Z]{2,3}(/\\S*)?$',' ')\n",
    "    #converting to lower case and replacing mail id,links by white space\n",
    "    \n",
    "    text=lower.replace(r'\\s+', ' ').replace(r'\\d+(\\.\\d+)?', ' ')\n",
    "    #removing \\n,large white space and leading_trailing white spaces, numbers by white space\n",
    "    \n",
    "    text=lower.replace(r\"[^a-zA-Z]+\", \" \").replace(r\"—\",\" \").replace(r'“', ' ').replace(r'”',' ').replace('’',' ').replace(r'–',' ').replace('«', ' ').replace('»',' ')\n",
    "    text=text.replace('®',' ').replace('´',' ').replace('·',' ').replace('½',' ').replace('¾',' ').replace('¤',' ')\n",
    "    #removing special characters by single white space\n",
    "    \n",
    "   \n",
    "   \n",
    "    punct=text.translate(str.maketrans('', '', p))  #remove punctuation\n",
    "    digit=punct.translate(str.maketrans('', '', d))       #remove digits if any\n",
    "    word= wt(digit, \"english\")\n",
    "    \n",
    "    for i in word:\n",
    "        if i not in stopwords and len(i)>=3 and len(i)<12:\n",
    "            lemma=porter().stem(wl().lemmatize(i))\n",
    "           # lemma=wl().lemmatize(i)\n",
    "            #stem=porter.stem(lemma)\n",
    "            processed.append(lemma)\n",
    "    return (\" \".join([x for x in processed])).strip()"
   ]
  },
  {
   "cell_type": "code",
   "execution_count": 30,
   "id": "016066ce",
   "metadata": {},
   "outputs": [
    {
     "name": "stdout",
     "output_type": "stream",
     "text": [
      "Original Document: \n",
      "  As much as human rights and ethnic rights should be respected, spray painting every possible detail of unverifiable informationon the Rohingya, and getting around the verification by claiming that the information was destroyed by an interested party - are not valid reasons for having a list of villages where a certain group of people live. There is already a lot of articles on the Arakanese people and state that have no concern of the Rohingya but include them for the sake of brotherly respect - this is pushing theline a bit far. Rohingyas should be treated fairly - I do not contest that. But articles like this one - are pure self-pitying and clutters Wikipedia with absolutely useless information. I wonder when will somebody change the name of the article on Burma/Myanmar on wiki to Country where the Rohingya are Persecuted.\n",
      "Rather, a brief mention of where the Rohingyas reside should be placed if desiredon the main article on Rakhine state - albeit short and concise, not dump an entire list of names copied directly from some publication.\n",
      "Withall due respect, this article should be deleted.\n",
      "\n",
      " ['', 'As', 'much', 'as', 'human', 'rights', 'and', 'ethnic', 'rights', 'should', 'be', 'respected,', 'spray', 'painting', 'every', 'possible', 'detail', 'of', 'unverifiable', 'informationon', 'the', 'Rohingya,', 'and', 'getting', 'around', 'the', 'verification', 'by', 'claiming', 'that', 'the', 'information', 'was', 'destroyed', 'by', 'an', 'interested', 'party', '-', 'are', 'not', 'valid', 'reasons', 'for', 'having', 'a', 'list', 'of', 'villages', 'where', 'a', 'certain', 'group', 'of', 'people', 'live.', 'There', 'is', 'already', 'a', 'lot', 'of', 'articles', 'on', 'the', 'Arakanese', 'people', 'and', 'state', 'that', 'have', 'no', 'concern', 'of', 'the', 'Rohingya', 'but', 'include', 'them', 'for', 'the', 'sake', 'of', 'brotherly', 'respect', '-', 'this', 'is', 'pushing', 'theline', 'a', 'bit', 'far.', 'Rohingyas', 'should', 'be', 'treated', 'fairly', '-', 'I', 'do', 'not', 'contest', 'that.', 'But', 'articles', 'like', 'this', 'one', '-', 'are', 'pure', 'self-pitying', 'and', 'clutters', 'Wikipedia', 'with', 'absolutely', 'useless', 'information.', 'I', 'wonder', 'when', 'will', 'somebody', 'change', 'the', 'name', 'of', 'the', 'article', 'on', 'Burma/Myanmar', 'on', 'wiki', 'to', 'Country', 'where', 'the', 'Rohingya', 'are', 'Persecuted.\\nRather,', 'a', 'brief', 'mention', 'of', 'where', 'the', 'Rohingyas', 'reside', 'should', 'be', 'placed', 'if', 'desiredon', 'the', 'main', 'article', 'on', 'Rakhine', 'state', '-', 'albeit', 'short', 'and', 'concise,', 'not', 'dump', 'an', 'entire', 'list', 'of', 'names', 'copied', 'directly', 'from', 'some', 'publication.\\nWithall', 'due', 'respect,', 'this', 'article', 'should', 'be', 'deleted.']\n",
      "\n",
      "\n",
      "Tokenized and lemmatized document: \n",
      "\n"
     ]
    },
    {
     "ename": "LookupError",
     "evalue": "\n**********************************************************************\n  Resource \u001b[93mpunkt\u001b[0m not found.\n  Please use the NLTK Downloader to obtain the resource:\n\n  \u001b[31m>>> import nltk\n  >>> nltk.download('punkt')\n  \u001b[0m\n  For more information see: https://www.nltk.org/data.html\n\n  Attempted to load \u001b[93mtokenizers/punkt/english.pickle\u001b[0m\n\n  Searched in:\n    - 'C:\\\\Users\\\\Prerna Jain/nltk_data'\n    - 'C:\\\\Users\\\\Prerna Jain\\\\anaconda3\\\\nltk_data'\n    - 'C:\\\\Users\\\\Prerna Jain\\\\anaconda3\\\\share\\\\nltk_data'\n    - 'C:\\\\Users\\\\Prerna Jain\\\\anaconda3\\\\lib\\\\nltk_data'\n    - 'C:\\\\Users\\\\Prerna Jain\\\\AppData\\\\Roaming\\\\nltk_data'\n    - 'C:\\\\nltk_data'\n    - 'D:\\\\nltk_data'\n    - 'E:\\\\nltk_data'\n    - ''\n**********************************************************************\n",
     "output_type": "error",
     "traceback": [
      "\u001b[1;31m---------------------------------------------------------------------------\u001b[0m",
      "\u001b[1;31mLookupError\u001b[0m                               Traceback (most recent call last)",
      "Input \u001b[1;32mIn [30]\u001b[0m, in \u001b[0;36m<cell line: 19>\u001b[1;34m()\u001b[0m\n\u001b[0;32m     17\u001b[0m \u001b[38;5;28mprint\u001b[39m(\u001b[38;5;124m'\u001b[39m\u001b[38;5;130;01m\\n\u001b[39;00m\u001b[38;5;124m'\u001b[39m,processed)\n\u001b[0;32m     18\u001b[0m \u001b[38;5;28mprint\u001b[39m(\u001b[38;5;124m\"\u001b[39m\u001b[38;5;130;01m\\n\u001b[39;00m\u001b[38;5;130;01m\\n\u001b[39;00m\u001b[38;5;124mTokenized and lemmatized document: \u001b[39m\u001b[38;5;130;01m\\n\u001b[39;00m\u001b[38;5;124m\"\u001b[39m)\n\u001b[1;32m---> 19\u001b[0m \u001b[38;5;28mprint\u001b[39m(\u001b[43mpreprocess\u001b[49m\u001b[43m(\u001b[49m\u001b[43msample\u001b[49m\u001b[43m)\u001b[49m)\n",
      "Input \u001b[1;32mIn [29]\u001b[0m, in \u001b[0;36mpreprocess\u001b[1;34m(text)\u001b[0m\n\u001b[0;32m     17\u001b[0m punct\u001b[38;5;241m=\u001b[39mtext\u001b[38;5;241m.\u001b[39mtranslate(\u001b[38;5;28mstr\u001b[39m\u001b[38;5;241m.\u001b[39mmaketrans(\u001b[38;5;124m'\u001b[39m\u001b[38;5;124m'\u001b[39m, \u001b[38;5;124m'\u001b[39m\u001b[38;5;124m'\u001b[39m, p))  \u001b[38;5;66;03m#remove punctuation\u001b[39;00m\n\u001b[0;32m     18\u001b[0m digit\u001b[38;5;241m=\u001b[39mpunct\u001b[38;5;241m.\u001b[39mtranslate(\u001b[38;5;28mstr\u001b[39m\u001b[38;5;241m.\u001b[39mmaketrans(\u001b[38;5;124m'\u001b[39m\u001b[38;5;124m'\u001b[39m, \u001b[38;5;124m'\u001b[39m\u001b[38;5;124m'\u001b[39m, d))       \u001b[38;5;66;03m#remove digits if any\u001b[39;00m\n\u001b[1;32m---> 19\u001b[0m word\u001b[38;5;241m=\u001b[39m \u001b[43mwt\u001b[49m\u001b[43m(\u001b[49m\u001b[43mdigit\u001b[49m\u001b[43m,\u001b[49m\u001b[43m \u001b[49m\u001b[38;5;124;43m\"\u001b[39;49m\u001b[38;5;124;43menglish\u001b[39;49m\u001b[38;5;124;43m\"\u001b[39;49m\u001b[43m)\u001b[49m\n\u001b[0;32m     21\u001b[0m \u001b[38;5;28;01mfor\u001b[39;00m i \u001b[38;5;129;01min\u001b[39;00m word:\n\u001b[0;32m     22\u001b[0m     \u001b[38;5;28;01mif\u001b[39;00m i \u001b[38;5;129;01mnot\u001b[39;00m \u001b[38;5;129;01min\u001b[39;00m stopwords \u001b[38;5;129;01mand\u001b[39;00m \u001b[38;5;28mlen\u001b[39m(i)\u001b[38;5;241m>\u001b[39m\u001b[38;5;241m=\u001b[39m\u001b[38;5;241m3\u001b[39m \u001b[38;5;129;01mand\u001b[39;00m \u001b[38;5;28mlen\u001b[39m(i)\u001b[38;5;241m<\u001b[39m\u001b[38;5;241m12\u001b[39m:\n",
      "File \u001b[1;32m~\\anaconda3\\lib\\site-packages\\nltk\\tokenize\\__init__.py:129\u001b[0m, in \u001b[0;36mword_tokenize\u001b[1;34m(text, language, preserve_line)\u001b[0m\n\u001b[0;32m    114\u001b[0m \u001b[38;5;28;01mdef\u001b[39;00m \u001b[38;5;21mword_tokenize\u001b[39m(text, language\u001b[38;5;241m=\u001b[39m\u001b[38;5;124m\"\u001b[39m\u001b[38;5;124menglish\u001b[39m\u001b[38;5;124m\"\u001b[39m, preserve_line\u001b[38;5;241m=\u001b[39m\u001b[38;5;28;01mFalse\u001b[39;00m):\n\u001b[0;32m    115\u001b[0m     \u001b[38;5;124;03m\"\"\"\u001b[39;00m\n\u001b[0;32m    116\u001b[0m \u001b[38;5;124;03m    Return a tokenized copy of *text*,\u001b[39;00m\n\u001b[0;32m    117\u001b[0m \u001b[38;5;124;03m    using NLTK's recommended word tokenizer\u001b[39;00m\n\u001b[1;32m   (...)\u001b[0m\n\u001b[0;32m    127\u001b[0m \u001b[38;5;124;03m    :type preserve_line: bool\u001b[39;00m\n\u001b[0;32m    128\u001b[0m \u001b[38;5;124;03m    \"\"\"\u001b[39;00m\n\u001b[1;32m--> 129\u001b[0m     sentences \u001b[38;5;241m=\u001b[39m [text] \u001b[38;5;28;01mif\u001b[39;00m preserve_line \u001b[38;5;28;01melse\u001b[39;00m \u001b[43msent_tokenize\u001b[49m\u001b[43m(\u001b[49m\u001b[43mtext\u001b[49m\u001b[43m,\u001b[49m\u001b[43m \u001b[49m\u001b[43mlanguage\u001b[49m\u001b[43m)\u001b[49m\n\u001b[0;32m    130\u001b[0m     \u001b[38;5;28;01mreturn\u001b[39;00m [\n\u001b[0;32m    131\u001b[0m         token \u001b[38;5;28;01mfor\u001b[39;00m sent \u001b[38;5;129;01min\u001b[39;00m sentences \u001b[38;5;28;01mfor\u001b[39;00m token \u001b[38;5;129;01min\u001b[39;00m _treebank_word_tokenizer\u001b[38;5;241m.\u001b[39mtokenize(sent)\n\u001b[0;32m    132\u001b[0m     ]\n",
      "File \u001b[1;32m~\\anaconda3\\lib\\site-packages\\nltk\\tokenize\\__init__.py:106\u001b[0m, in \u001b[0;36msent_tokenize\u001b[1;34m(text, language)\u001b[0m\n\u001b[0;32m     96\u001b[0m \u001b[38;5;28;01mdef\u001b[39;00m \u001b[38;5;21msent_tokenize\u001b[39m(text, language\u001b[38;5;241m=\u001b[39m\u001b[38;5;124m\"\u001b[39m\u001b[38;5;124menglish\u001b[39m\u001b[38;5;124m\"\u001b[39m):\n\u001b[0;32m     97\u001b[0m     \u001b[38;5;124;03m\"\"\"\u001b[39;00m\n\u001b[0;32m     98\u001b[0m \u001b[38;5;124;03m    Return a sentence-tokenized copy of *text*,\u001b[39;00m\n\u001b[0;32m     99\u001b[0m \u001b[38;5;124;03m    using NLTK's recommended sentence tokenizer\u001b[39;00m\n\u001b[1;32m   (...)\u001b[0m\n\u001b[0;32m    104\u001b[0m \u001b[38;5;124;03m    :param language: the model name in the Punkt corpus\u001b[39;00m\n\u001b[0;32m    105\u001b[0m \u001b[38;5;124;03m    \"\"\"\u001b[39;00m\n\u001b[1;32m--> 106\u001b[0m     tokenizer \u001b[38;5;241m=\u001b[39m \u001b[43mload\u001b[49m\u001b[43m(\u001b[49m\u001b[38;5;124;43mf\u001b[39;49m\u001b[38;5;124;43m\"\u001b[39;49m\u001b[38;5;124;43mtokenizers/punkt/\u001b[39;49m\u001b[38;5;132;43;01m{\u001b[39;49;00m\u001b[43mlanguage\u001b[49m\u001b[38;5;132;43;01m}\u001b[39;49;00m\u001b[38;5;124;43m.pickle\u001b[39;49m\u001b[38;5;124;43m\"\u001b[39;49m\u001b[43m)\u001b[49m\n\u001b[0;32m    107\u001b[0m     \u001b[38;5;28;01mreturn\u001b[39;00m tokenizer\u001b[38;5;241m.\u001b[39mtokenize(text)\n",
      "File \u001b[1;32m~\\anaconda3\\lib\\site-packages\\nltk\\data.py:750\u001b[0m, in \u001b[0;36mload\u001b[1;34m(resource_url, format, cache, verbose, logic_parser, fstruct_reader, encoding)\u001b[0m\n\u001b[0;32m    747\u001b[0m     \u001b[38;5;28mprint\u001b[39m(\u001b[38;5;124mf\u001b[39m\u001b[38;5;124m\"\u001b[39m\u001b[38;5;124m<<Loading \u001b[39m\u001b[38;5;132;01m{\u001b[39;00mresource_url\u001b[38;5;132;01m}\u001b[39;00m\u001b[38;5;124m>>\u001b[39m\u001b[38;5;124m\"\u001b[39m)\n\u001b[0;32m    749\u001b[0m \u001b[38;5;66;03m# Load the resource.\u001b[39;00m\n\u001b[1;32m--> 750\u001b[0m opened_resource \u001b[38;5;241m=\u001b[39m \u001b[43m_open\u001b[49m\u001b[43m(\u001b[49m\u001b[43mresource_url\u001b[49m\u001b[43m)\u001b[49m\n\u001b[0;32m    752\u001b[0m \u001b[38;5;28;01mif\u001b[39;00m \u001b[38;5;28mformat\u001b[39m \u001b[38;5;241m==\u001b[39m \u001b[38;5;124m\"\u001b[39m\u001b[38;5;124mraw\u001b[39m\u001b[38;5;124m\"\u001b[39m:\n\u001b[0;32m    753\u001b[0m     resource_val \u001b[38;5;241m=\u001b[39m opened_resource\u001b[38;5;241m.\u001b[39mread()\n",
      "File \u001b[1;32m~\\anaconda3\\lib\\site-packages\\nltk\\data.py:876\u001b[0m, in \u001b[0;36m_open\u001b[1;34m(resource_url)\u001b[0m\n\u001b[0;32m    873\u001b[0m protocol, path_ \u001b[38;5;241m=\u001b[39m split_resource_url(resource_url)\n\u001b[0;32m    875\u001b[0m \u001b[38;5;28;01mif\u001b[39;00m protocol \u001b[38;5;129;01mis\u001b[39;00m \u001b[38;5;28;01mNone\u001b[39;00m \u001b[38;5;129;01mor\u001b[39;00m protocol\u001b[38;5;241m.\u001b[39mlower() \u001b[38;5;241m==\u001b[39m \u001b[38;5;124m\"\u001b[39m\u001b[38;5;124mnltk\u001b[39m\u001b[38;5;124m\"\u001b[39m:\n\u001b[1;32m--> 876\u001b[0m     \u001b[38;5;28;01mreturn\u001b[39;00m \u001b[43mfind\u001b[49m\u001b[43m(\u001b[49m\u001b[43mpath_\u001b[49m\u001b[43m,\u001b[49m\u001b[43m \u001b[49m\u001b[43mpath\u001b[49m\u001b[43m \u001b[49m\u001b[38;5;241;43m+\u001b[39;49m\u001b[43m \u001b[49m\u001b[43m[\u001b[49m\u001b[38;5;124;43m\"\u001b[39;49m\u001b[38;5;124;43m\"\u001b[39;49m\u001b[43m]\u001b[49m\u001b[43m)\u001b[49m\u001b[38;5;241m.\u001b[39mopen()\n\u001b[0;32m    877\u001b[0m \u001b[38;5;28;01melif\u001b[39;00m protocol\u001b[38;5;241m.\u001b[39mlower() \u001b[38;5;241m==\u001b[39m \u001b[38;5;124m\"\u001b[39m\u001b[38;5;124mfile\u001b[39m\u001b[38;5;124m\"\u001b[39m:\n\u001b[0;32m    878\u001b[0m     \u001b[38;5;66;03m# urllib might not use mode='rb', so handle this one ourselves:\u001b[39;00m\n\u001b[0;32m    879\u001b[0m     \u001b[38;5;28;01mreturn\u001b[39;00m find(path_, [\u001b[38;5;124m\"\u001b[39m\u001b[38;5;124m\"\u001b[39m])\u001b[38;5;241m.\u001b[39mopen()\n",
      "File \u001b[1;32m~\\anaconda3\\lib\\site-packages\\nltk\\data.py:583\u001b[0m, in \u001b[0;36mfind\u001b[1;34m(resource_name, paths)\u001b[0m\n\u001b[0;32m    581\u001b[0m sep \u001b[38;5;241m=\u001b[39m \u001b[38;5;124m\"\u001b[39m\u001b[38;5;124m*\u001b[39m\u001b[38;5;124m\"\u001b[39m \u001b[38;5;241m*\u001b[39m \u001b[38;5;241m70\u001b[39m\n\u001b[0;32m    582\u001b[0m resource_not_found \u001b[38;5;241m=\u001b[39m \u001b[38;5;124mf\u001b[39m\u001b[38;5;124m\"\u001b[39m\u001b[38;5;130;01m\\n\u001b[39;00m\u001b[38;5;132;01m{\u001b[39;00msep\u001b[38;5;132;01m}\u001b[39;00m\u001b[38;5;130;01m\\n\u001b[39;00m\u001b[38;5;132;01m{\u001b[39;00mmsg\u001b[38;5;132;01m}\u001b[39;00m\u001b[38;5;130;01m\\n\u001b[39;00m\u001b[38;5;132;01m{\u001b[39;00msep\u001b[38;5;132;01m}\u001b[39;00m\u001b[38;5;130;01m\\n\u001b[39;00m\u001b[38;5;124m\"\u001b[39m\n\u001b[1;32m--> 583\u001b[0m \u001b[38;5;28;01mraise\u001b[39;00m \u001b[38;5;167;01mLookupError\u001b[39;00m(resource_not_found)\n",
      "\u001b[1;31mLookupError\u001b[0m: \n**********************************************************************\n  Resource \u001b[93mpunkt\u001b[0m not found.\n  Please use the NLTK Downloader to obtain the resource:\n\n  \u001b[31m>>> import nltk\n  >>> nltk.download('punkt')\n  \u001b[0m\n  For more information see: https://www.nltk.org/data.html\n\n  Attempted to load \u001b[93mtokenizers/punkt/english.pickle\u001b[0m\n\n  Searched in:\n    - 'C:\\\\Users\\\\Prerna Jain/nltk_data'\n    - 'C:\\\\Users\\\\Prerna Jain\\\\anaconda3\\\\nltk_data'\n    - 'C:\\\\Users\\\\Prerna Jain\\\\anaconda3\\\\share\\\\nltk_data'\n    - 'C:\\\\Users\\\\Prerna Jain\\\\anaconda3\\\\lib\\\\nltk_data'\n    - 'C:\\\\Users\\\\Prerna Jain\\\\AppData\\\\Roaming\\\\nltk_data'\n    - 'C:\\\\nltk_data'\n    - 'D:\\\\nltk_data'\n    - 'E:\\\\nltk_data'\n    - ''\n**********************************************************************\n"
     ]
    }
   ],
   "source": [
    "#TESTING THE FUNCTION CREATED ABOVE\n",
    "sample=\" As much as human rights and ethnic rights should be respected, spray painting every possible detail of unverifiable information\\\n",
    "on the Rohingya, and getting around the verification by claiming that the information was destroyed by an interested party - \\\n",
    "are not valid reasons for having a list of villages where a certain group of people live. There is already a lot of articles on the \\\n",
    "Arakanese people and state that have no concern of the Rohingya but include them for the sake of brotherly respect - this is pushing the\\\n",
    "line a bit far. Rohingyas should be treated fairly - I do not contest that. But articles like this one - are pure self-pitying and clutters \\\n",
    "Wikipedia with absolutely useless information. I wonder when will somebody change the name of the article on Burma/Myanmar on \\\n",
    "wiki to \"\"Country where the Rohingya are Persecuted\"\".\\nRather, a brief mention of where the Rohingyas reside should be placed if desired\\\n",
    "on the main article on Rakhine state - albeit short and concise, not dump an entire list of names copied directly from some publication.\\nWith\\\n",
    "all due respect, this article should be deleted.\"\n",
    "\n",
    "print(\"Original Document: \\n\",sample)\n",
    "\n",
    "processed=[]\n",
    "for word in sample.split(' '):\n",
    "    processed.append(word)\n",
    "print('\\n',processed)\n",
    "print(\"\\n\\nTokenized and lemmatized document: \\n\")\n",
    "print(preprocess(sample))"
   ]
  },
  {
   "cell_type": "code",
   "execution_count": 31,
   "id": "b31a6c94",
   "metadata": {},
   "outputs": [
    {
     "ename": "LookupError",
     "evalue": "\n**********************************************************************\n  Resource \u001b[93mpunkt\u001b[0m not found.\n  Please use the NLTK Downloader to obtain the resource:\n\n  \u001b[31m>>> import nltk\n  >>> nltk.download('punkt')\n  \u001b[0m\n  For more information see: https://www.nltk.org/data.html\n\n  Attempted to load \u001b[93mtokenizers/punkt/english.pickle\u001b[0m\n\n  Searched in:\n    - 'C:\\\\Users\\\\Prerna Jain/nltk_data'\n    - 'C:\\\\Users\\\\Prerna Jain\\\\anaconda3\\\\nltk_data'\n    - 'C:\\\\Users\\\\Prerna Jain\\\\anaconda3\\\\share\\\\nltk_data'\n    - 'C:\\\\Users\\\\Prerna Jain\\\\anaconda3\\\\lib\\\\nltk_data'\n    - 'C:\\\\Users\\\\Prerna Jain\\\\AppData\\\\Roaming\\\\nltk_data'\n    - 'C:\\\\nltk_data'\n    - 'D:\\\\nltk_data'\n    - 'E:\\\\nltk_data'\n    - ''\n**********************************************************************\n",
     "output_type": "error",
     "traceback": [
      "\u001b[1;31m---------------------------------------------------------------------------\u001b[0m",
      "\u001b[1;31mLookupError\u001b[0m                               Traceback (most recent call last)",
      "File \u001b[1;32m<timed exec>:4\u001b[0m, in \u001b[0;36m<module>\u001b[1;34m\u001b[0m\n",
      "Input \u001b[1;32mIn [29]\u001b[0m, in \u001b[0;36mpreprocess\u001b[1;34m(text)\u001b[0m\n\u001b[0;32m     17\u001b[0m punct\u001b[38;5;241m=\u001b[39mtext\u001b[38;5;241m.\u001b[39mtranslate(\u001b[38;5;28mstr\u001b[39m\u001b[38;5;241m.\u001b[39mmaketrans(\u001b[38;5;124m'\u001b[39m\u001b[38;5;124m'\u001b[39m, \u001b[38;5;124m'\u001b[39m\u001b[38;5;124m'\u001b[39m, p))  \u001b[38;5;66;03m#remove punctuation\u001b[39;00m\n\u001b[0;32m     18\u001b[0m digit\u001b[38;5;241m=\u001b[39mpunct\u001b[38;5;241m.\u001b[39mtranslate(\u001b[38;5;28mstr\u001b[39m\u001b[38;5;241m.\u001b[39mmaketrans(\u001b[38;5;124m'\u001b[39m\u001b[38;5;124m'\u001b[39m, \u001b[38;5;124m'\u001b[39m\u001b[38;5;124m'\u001b[39m, d))       \u001b[38;5;66;03m#remove digits if any\u001b[39;00m\n\u001b[1;32m---> 19\u001b[0m word\u001b[38;5;241m=\u001b[39m \u001b[43mwt\u001b[49m\u001b[43m(\u001b[49m\u001b[43mdigit\u001b[49m\u001b[43m,\u001b[49m\u001b[43m \u001b[49m\u001b[38;5;124;43m\"\u001b[39;49m\u001b[38;5;124;43menglish\u001b[39;49m\u001b[38;5;124;43m\"\u001b[39;49m\u001b[43m)\u001b[49m\n\u001b[0;32m     21\u001b[0m \u001b[38;5;28;01mfor\u001b[39;00m i \u001b[38;5;129;01min\u001b[39;00m word:\n\u001b[0;32m     22\u001b[0m     \u001b[38;5;28;01mif\u001b[39;00m i \u001b[38;5;129;01mnot\u001b[39;00m \u001b[38;5;129;01min\u001b[39;00m stopwords \u001b[38;5;129;01mand\u001b[39;00m \u001b[38;5;28mlen\u001b[39m(i)\u001b[38;5;241m>\u001b[39m\u001b[38;5;241m=\u001b[39m\u001b[38;5;241m3\u001b[39m \u001b[38;5;129;01mand\u001b[39;00m \u001b[38;5;28mlen\u001b[39m(i)\u001b[38;5;241m<\u001b[39m\u001b[38;5;241m12\u001b[39m:\n",
      "File \u001b[1;32m~\\anaconda3\\lib\\site-packages\\nltk\\tokenize\\__init__.py:129\u001b[0m, in \u001b[0;36mword_tokenize\u001b[1;34m(text, language, preserve_line)\u001b[0m\n\u001b[0;32m    114\u001b[0m \u001b[38;5;28;01mdef\u001b[39;00m \u001b[38;5;21mword_tokenize\u001b[39m(text, language\u001b[38;5;241m=\u001b[39m\u001b[38;5;124m\"\u001b[39m\u001b[38;5;124menglish\u001b[39m\u001b[38;5;124m\"\u001b[39m, preserve_line\u001b[38;5;241m=\u001b[39m\u001b[38;5;28;01mFalse\u001b[39;00m):\n\u001b[0;32m    115\u001b[0m     \u001b[38;5;124;03m\"\"\"\u001b[39;00m\n\u001b[0;32m    116\u001b[0m \u001b[38;5;124;03m    Return a tokenized copy of *text*,\u001b[39;00m\n\u001b[0;32m    117\u001b[0m \u001b[38;5;124;03m    using NLTK's recommended word tokenizer\u001b[39;00m\n\u001b[1;32m   (...)\u001b[0m\n\u001b[0;32m    127\u001b[0m \u001b[38;5;124;03m    :type preserve_line: bool\u001b[39;00m\n\u001b[0;32m    128\u001b[0m \u001b[38;5;124;03m    \"\"\"\u001b[39;00m\n\u001b[1;32m--> 129\u001b[0m     sentences \u001b[38;5;241m=\u001b[39m [text] \u001b[38;5;28;01mif\u001b[39;00m preserve_line \u001b[38;5;28;01melse\u001b[39;00m \u001b[43msent_tokenize\u001b[49m\u001b[43m(\u001b[49m\u001b[43mtext\u001b[49m\u001b[43m,\u001b[49m\u001b[43m \u001b[49m\u001b[43mlanguage\u001b[49m\u001b[43m)\u001b[49m\n\u001b[0;32m    130\u001b[0m     \u001b[38;5;28;01mreturn\u001b[39;00m [\n\u001b[0;32m    131\u001b[0m         token \u001b[38;5;28;01mfor\u001b[39;00m sent \u001b[38;5;129;01min\u001b[39;00m sentences \u001b[38;5;28;01mfor\u001b[39;00m token \u001b[38;5;129;01min\u001b[39;00m _treebank_word_tokenizer\u001b[38;5;241m.\u001b[39mtokenize(sent)\n\u001b[0;32m    132\u001b[0m     ]\n",
      "File \u001b[1;32m~\\anaconda3\\lib\\site-packages\\nltk\\tokenize\\__init__.py:106\u001b[0m, in \u001b[0;36msent_tokenize\u001b[1;34m(text, language)\u001b[0m\n\u001b[0;32m     96\u001b[0m \u001b[38;5;28;01mdef\u001b[39;00m \u001b[38;5;21msent_tokenize\u001b[39m(text, language\u001b[38;5;241m=\u001b[39m\u001b[38;5;124m\"\u001b[39m\u001b[38;5;124menglish\u001b[39m\u001b[38;5;124m\"\u001b[39m):\n\u001b[0;32m     97\u001b[0m     \u001b[38;5;124;03m\"\"\"\u001b[39;00m\n\u001b[0;32m     98\u001b[0m \u001b[38;5;124;03m    Return a sentence-tokenized copy of *text*,\u001b[39;00m\n\u001b[0;32m     99\u001b[0m \u001b[38;5;124;03m    using NLTK's recommended sentence tokenizer\u001b[39;00m\n\u001b[1;32m   (...)\u001b[0m\n\u001b[0;32m    104\u001b[0m \u001b[38;5;124;03m    :param language: the model name in the Punkt corpus\u001b[39;00m\n\u001b[0;32m    105\u001b[0m \u001b[38;5;124;03m    \"\"\"\u001b[39;00m\n\u001b[1;32m--> 106\u001b[0m     tokenizer \u001b[38;5;241m=\u001b[39m \u001b[43mload\u001b[49m\u001b[43m(\u001b[49m\u001b[38;5;124;43mf\u001b[39;49m\u001b[38;5;124;43m\"\u001b[39;49m\u001b[38;5;124;43mtokenizers/punkt/\u001b[39;49m\u001b[38;5;132;43;01m{\u001b[39;49;00m\u001b[43mlanguage\u001b[49m\u001b[38;5;132;43;01m}\u001b[39;49;00m\u001b[38;5;124;43m.pickle\u001b[39;49m\u001b[38;5;124;43m\"\u001b[39;49m\u001b[43m)\u001b[49m\n\u001b[0;32m    107\u001b[0m     \u001b[38;5;28;01mreturn\u001b[39;00m tokenizer\u001b[38;5;241m.\u001b[39mtokenize(text)\n",
      "File \u001b[1;32m~\\anaconda3\\lib\\site-packages\\nltk\\data.py:750\u001b[0m, in \u001b[0;36mload\u001b[1;34m(resource_url, format, cache, verbose, logic_parser, fstruct_reader, encoding)\u001b[0m\n\u001b[0;32m    747\u001b[0m     \u001b[38;5;28mprint\u001b[39m(\u001b[38;5;124mf\u001b[39m\u001b[38;5;124m\"\u001b[39m\u001b[38;5;124m<<Loading \u001b[39m\u001b[38;5;132;01m{\u001b[39;00mresource_url\u001b[38;5;132;01m}\u001b[39;00m\u001b[38;5;124m>>\u001b[39m\u001b[38;5;124m\"\u001b[39m)\n\u001b[0;32m    749\u001b[0m \u001b[38;5;66;03m# Load the resource.\u001b[39;00m\n\u001b[1;32m--> 750\u001b[0m opened_resource \u001b[38;5;241m=\u001b[39m \u001b[43m_open\u001b[49m\u001b[43m(\u001b[49m\u001b[43mresource_url\u001b[49m\u001b[43m)\u001b[49m\n\u001b[0;32m    752\u001b[0m \u001b[38;5;28;01mif\u001b[39;00m \u001b[38;5;28mformat\u001b[39m \u001b[38;5;241m==\u001b[39m \u001b[38;5;124m\"\u001b[39m\u001b[38;5;124mraw\u001b[39m\u001b[38;5;124m\"\u001b[39m:\n\u001b[0;32m    753\u001b[0m     resource_val \u001b[38;5;241m=\u001b[39m opened_resource\u001b[38;5;241m.\u001b[39mread()\n",
      "File \u001b[1;32m~\\anaconda3\\lib\\site-packages\\nltk\\data.py:876\u001b[0m, in \u001b[0;36m_open\u001b[1;34m(resource_url)\u001b[0m\n\u001b[0;32m    873\u001b[0m protocol, path_ \u001b[38;5;241m=\u001b[39m split_resource_url(resource_url)\n\u001b[0;32m    875\u001b[0m \u001b[38;5;28;01mif\u001b[39;00m protocol \u001b[38;5;129;01mis\u001b[39;00m \u001b[38;5;28;01mNone\u001b[39;00m \u001b[38;5;129;01mor\u001b[39;00m protocol\u001b[38;5;241m.\u001b[39mlower() \u001b[38;5;241m==\u001b[39m \u001b[38;5;124m\"\u001b[39m\u001b[38;5;124mnltk\u001b[39m\u001b[38;5;124m\"\u001b[39m:\n\u001b[1;32m--> 876\u001b[0m     \u001b[38;5;28;01mreturn\u001b[39;00m \u001b[43mfind\u001b[49m\u001b[43m(\u001b[49m\u001b[43mpath_\u001b[49m\u001b[43m,\u001b[49m\u001b[43m \u001b[49m\u001b[43mpath\u001b[49m\u001b[43m \u001b[49m\u001b[38;5;241;43m+\u001b[39;49m\u001b[43m \u001b[49m\u001b[43m[\u001b[49m\u001b[38;5;124;43m\"\u001b[39;49m\u001b[38;5;124;43m\"\u001b[39;49m\u001b[43m]\u001b[49m\u001b[43m)\u001b[49m\u001b[38;5;241m.\u001b[39mopen()\n\u001b[0;32m    877\u001b[0m \u001b[38;5;28;01melif\u001b[39;00m protocol\u001b[38;5;241m.\u001b[39mlower() \u001b[38;5;241m==\u001b[39m \u001b[38;5;124m\"\u001b[39m\u001b[38;5;124mfile\u001b[39m\u001b[38;5;124m\"\u001b[39m:\n\u001b[0;32m    878\u001b[0m     \u001b[38;5;66;03m# urllib might not use mode='rb', so handle this one ourselves:\u001b[39;00m\n\u001b[0;32m    879\u001b[0m     \u001b[38;5;28;01mreturn\u001b[39;00m find(path_, [\u001b[38;5;124m\"\u001b[39m\u001b[38;5;124m\"\u001b[39m])\u001b[38;5;241m.\u001b[39mopen()\n",
      "File \u001b[1;32m~\\anaconda3\\lib\\site-packages\\nltk\\data.py:583\u001b[0m, in \u001b[0;36mfind\u001b[1;34m(resource_name, paths)\u001b[0m\n\u001b[0;32m    581\u001b[0m sep \u001b[38;5;241m=\u001b[39m \u001b[38;5;124m\"\u001b[39m\u001b[38;5;124m*\u001b[39m\u001b[38;5;124m\"\u001b[39m \u001b[38;5;241m*\u001b[39m \u001b[38;5;241m70\u001b[39m\n\u001b[0;32m    582\u001b[0m resource_not_found \u001b[38;5;241m=\u001b[39m \u001b[38;5;124mf\u001b[39m\u001b[38;5;124m\"\u001b[39m\u001b[38;5;130;01m\\n\u001b[39;00m\u001b[38;5;132;01m{\u001b[39;00msep\u001b[38;5;132;01m}\u001b[39;00m\u001b[38;5;130;01m\\n\u001b[39;00m\u001b[38;5;132;01m{\u001b[39;00mmsg\u001b[38;5;132;01m}\u001b[39;00m\u001b[38;5;130;01m\\n\u001b[39;00m\u001b[38;5;132;01m{\u001b[39;00msep\u001b[38;5;132;01m}\u001b[39;00m\u001b[38;5;130;01m\\n\u001b[39;00m\u001b[38;5;124m\"\u001b[39m\n\u001b[1;32m--> 583\u001b[0m \u001b[38;5;28;01mraise\u001b[39;00m \u001b[38;5;167;01mLookupError\u001b[39;00m(resource_not_found)\n",
      "\u001b[1;31mLookupError\u001b[0m: \n**********************************************************************\n  Resource \u001b[93mpunkt\u001b[0m not found.\n  Please use the NLTK Downloader to obtain the resource:\n\n  \u001b[31m>>> import nltk\n  >>> nltk.download('punkt')\n  \u001b[0m\n  For more information see: https://www.nltk.org/data.html\n\n  Attempted to load \u001b[93mtokenizers/punkt/english.pickle\u001b[0m\n\n  Searched in:\n    - 'C:\\\\Users\\\\Prerna Jain/nltk_data'\n    - 'C:\\\\Users\\\\Prerna Jain\\\\anaconda3\\\\nltk_data'\n    - 'C:\\\\Users\\\\Prerna Jain\\\\anaconda3\\\\share\\\\nltk_data'\n    - 'C:\\\\Users\\\\Prerna Jain\\\\anaconda3\\\\lib\\\\nltk_data'\n    - 'C:\\\\Users\\\\Prerna Jain\\\\AppData\\\\Roaming\\\\nltk_data'\n    - 'C:\\\\nltk_data'\n    - 'D:\\\\nltk_data'\n    - 'E:\\\\nltk_data'\n    - ''\n**********************************************************************\n"
     ]
    }
   ],
   "source": [
    "%%time\n",
    "clean = []\n",
    "\n",
    "for i in cmt.comment_text:\n",
    "    clean.append(preprocess(i))"
   ]
  },
  {
   "cell_type": "code",
   "execution_count": 32,
   "id": "adf2d028",
   "metadata": {},
   "outputs": [
    {
     "name": "stdout",
     "output_type": "stream",
     "text": [
      "Length of cleaned text=\t 0\n"
     ]
    },
    {
     "ename": "IndexError",
     "evalue": "list index out of range",
     "output_type": "error",
     "traceback": [
      "\u001b[1;31m---------------------------------------------------------------------------\u001b[0m",
      "\u001b[1;31mIndexError\u001b[0m                                Traceback (most recent call last)",
      "Input \u001b[1;32mIn [32]\u001b[0m, in \u001b[0;36m<cell line: 2>\u001b[1;34m()\u001b[0m\n\u001b[0;32m      1\u001b[0m \u001b[38;5;28mprint\u001b[39m(\u001b[38;5;124m\"\u001b[39m\u001b[38;5;124mLength of cleaned text=\u001b[39m\u001b[38;5;130;01m\\t\u001b[39;00m\u001b[38;5;124m\"\u001b[39m,\u001b[38;5;28mlen\u001b[39m(clean))\n\u001b[1;32m----> 2\u001b[0m \u001b[38;5;28mprint\u001b[39m(\u001b[43mclean\u001b[49m\u001b[43m[\u001b[49m\u001b[38;5;241;43m37\u001b[39;49m\u001b[43m]\u001b[49m)\n",
      "\u001b[1;31mIndexError\u001b[0m: list index out of range"
     ]
    }
   ],
   "source": [
    "print(\"Length of cleaned text=\\t\",len(clean))\n",
    "print(clean[37])"
   ]
  },
  {
   "cell_type": "code",
   "execution_count": 33,
   "id": "a0545d8c",
   "metadata": {},
   "outputs": [
    {
     "ename": "AttributeError",
     "evalue": "Can only use .str accessor with string values!",
     "output_type": "error",
     "traceback": [
      "\u001b[1;31m---------------------------------------------------------------------------\u001b[0m",
      "\u001b[1;31mAttributeError\u001b[0m                            Traceback (most recent call last)",
      "Input \u001b[1;32mIn [33]\u001b[0m, in \u001b[0;36m<cell line: 5>\u001b[1;34m()\u001b[0m\n\u001b[0;32m      2\u001b[0m processed \u001b[38;5;241m=\u001b[39m pd\u001b[38;5;241m.\u001b[39mDataFrame({\u001b[38;5;124m'\u001b[39m\u001b[38;5;124mcomment\u001b[39m\u001b[38;5;124m'\u001b[39m : clean })\n\u001b[0;32m      3\u001b[0m cmt[\u001b[38;5;124m'\u001b[39m\u001b[38;5;124mcomment\u001b[39m\u001b[38;5;124m'\u001b[39m]\u001b[38;5;241m=\u001b[39m processed\n\u001b[1;32m----> 5\u001b[0m cmt[\u001b[38;5;124m'\u001b[39m\u001b[38;5;124mlen of cleaned comment\u001b[39m\u001b[38;5;124m'\u001b[39m]\u001b[38;5;241m=\u001b[39m\u001b[43mcmt\u001b[49m\u001b[43m[\u001b[49m\u001b[38;5;124;43m'\u001b[39;49m\u001b[38;5;124;43mcomment\u001b[39;49m\u001b[38;5;124;43m'\u001b[39;49m\u001b[43m]\u001b[49m\u001b[38;5;241;43m.\u001b[39;49m\u001b[43mstr\u001b[49m\u001b[38;5;241m.\u001b[39mlen()\u001b[38;5;241m.\u001b[39mastype(\u001b[38;5;124m'\u001b[39m\u001b[38;5;124mint64\u001b[39m\u001b[38;5;124m'\u001b[39m)\n\u001b[0;32m      6\u001b[0m cmt\u001b[38;5;241m.\u001b[39mhead(\u001b[38;5;241m15\u001b[39m)\n",
      "File \u001b[1;32m~\\anaconda3\\lib\\site-packages\\pandas\\core\\generic.py:5583\u001b[0m, in \u001b[0;36mNDFrame.__getattr__\u001b[1;34m(self, name)\u001b[0m\n\u001b[0;32m   5576\u001b[0m \u001b[38;5;28;01mif\u001b[39;00m (\n\u001b[0;32m   5577\u001b[0m     name \u001b[38;5;129;01mnot\u001b[39;00m \u001b[38;5;129;01min\u001b[39;00m \u001b[38;5;28mself\u001b[39m\u001b[38;5;241m.\u001b[39m_internal_names_set\n\u001b[0;32m   5578\u001b[0m     \u001b[38;5;129;01mand\u001b[39;00m name \u001b[38;5;129;01mnot\u001b[39;00m \u001b[38;5;129;01min\u001b[39;00m \u001b[38;5;28mself\u001b[39m\u001b[38;5;241m.\u001b[39m_metadata\n\u001b[0;32m   5579\u001b[0m     \u001b[38;5;129;01mand\u001b[39;00m name \u001b[38;5;129;01mnot\u001b[39;00m \u001b[38;5;129;01min\u001b[39;00m \u001b[38;5;28mself\u001b[39m\u001b[38;5;241m.\u001b[39m_accessors\n\u001b[0;32m   5580\u001b[0m     \u001b[38;5;129;01mand\u001b[39;00m \u001b[38;5;28mself\u001b[39m\u001b[38;5;241m.\u001b[39m_info_axis\u001b[38;5;241m.\u001b[39m_can_hold_identifiers_and_holds_name(name)\n\u001b[0;32m   5581\u001b[0m ):\n\u001b[0;32m   5582\u001b[0m     \u001b[38;5;28;01mreturn\u001b[39;00m \u001b[38;5;28mself\u001b[39m[name]\n\u001b[1;32m-> 5583\u001b[0m \u001b[38;5;28;01mreturn\u001b[39;00m \u001b[38;5;28;43mobject\u001b[39;49m\u001b[38;5;241;43m.\u001b[39;49m\u001b[38;5;21;43m__getattribute__\u001b[39;49m\u001b[43m(\u001b[49m\u001b[38;5;28;43mself\u001b[39;49m\u001b[43m,\u001b[49m\u001b[43m \u001b[49m\u001b[43mname\u001b[49m\u001b[43m)\u001b[49m\n",
      "File \u001b[1;32m~\\anaconda3\\lib\\site-packages\\pandas\\core\\accessor.py:182\u001b[0m, in \u001b[0;36mCachedAccessor.__get__\u001b[1;34m(self, obj, cls)\u001b[0m\n\u001b[0;32m    179\u001b[0m \u001b[38;5;28;01mif\u001b[39;00m obj \u001b[38;5;129;01mis\u001b[39;00m \u001b[38;5;28;01mNone\u001b[39;00m:\n\u001b[0;32m    180\u001b[0m     \u001b[38;5;66;03m# we're accessing the attribute of the class, i.e., Dataset.geo\u001b[39;00m\n\u001b[0;32m    181\u001b[0m     \u001b[38;5;28;01mreturn\u001b[39;00m \u001b[38;5;28mself\u001b[39m\u001b[38;5;241m.\u001b[39m_accessor\n\u001b[1;32m--> 182\u001b[0m accessor_obj \u001b[38;5;241m=\u001b[39m \u001b[38;5;28;43mself\u001b[39;49m\u001b[38;5;241;43m.\u001b[39;49m\u001b[43m_accessor\u001b[49m\u001b[43m(\u001b[49m\u001b[43mobj\u001b[49m\u001b[43m)\u001b[49m\n\u001b[0;32m    183\u001b[0m \u001b[38;5;66;03m# Replace the property with the accessor object. Inspired by:\u001b[39;00m\n\u001b[0;32m    184\u001b[0m \u001b[38;5;66;03m# https://www.pydanny.com/cached-property.html\u001b[39;00m\n\u001b[0;32m    185\u001b[0m \u001b[38;5;66;03m# We need to use object.__setattr__ because we overwrite __setattr__ on\u001b[39;00m\n\u001b[0;32m    186\u001b[0m \u001b[38;5;66;03m# NDFrame\u001b[39;00m\n\u001b[0;32m    187\u001b[0m \u001b[38;5;28mobject\u001b[39m\u001b[38;5;241m.\u001b[39m\u001b[38;5;21m__setattr__\u001b[39m(obj, \u001b[38;5;28mself\u001b[39m\u001b[38;5;241m.\u001b[39m_name, accessor_obj)\n",
      "File \u001b[1;32m~\\anaconda3\\lib\\site-packages\\pandas\\core\\strings\\accessor.py:177\u001b[0m, in \u001b[0;36mStringMethods.__init__\u001b[1;34m(self, data)\u001b[0m\n\u001b[0;32m    174\u001b[0m \u001b[38;5;28;01mdef\u001b[39;00m \u001b[38;5;21m__init__\u001b[39m(\u001b[38;5;28mself\u001b[39m, data):\n\u001b[0;32m    175\u001b[0m     \u001b[38;5;28;01mfrom\u001b[39;00m \u001b[38;5;21;01mpandas\u001b[39;00m\u001b[38;5;21;01m.\u001b[39;00m\u001b[38;5;21;01mcore\u001b[39;00m\u001b[38;5;21;01m.\u001b[39;00m\u001b[38;5;21;01marrays\u001b[39;00m\u001b[38;5;21;01m.\u001b[39;00m\u001b[38;5;21;01mstring_\u001b[39;00m \u001b[38;5;28;01mimport\u001b[39;00m StringDtype\n\u001b[1;32m--> 177\u001b[0m     \u001b[38;5;28mself\u001b[39m\u001b[38;5;241m.\u001b[39m_inferred_dtype \u001b[38;5;241m=\u001b[39m \u001b[38;5;28;43mself\u001b[39;49m\u001b[38;5;241;43m.\u001b[39;49m\u001b[43m_validate\u001b[49m\u001b[43m(\u001b[49m\u001b[43mdata\u001b[49m\u001b[43m)\u001b[49m\n\u001b[0;32m    178\u001b[0m     \u001b[38;5;28mself\u001b[39m\u001b[38;5;241m.\u001b[39m_is_categorical \u001b[38;5;241m=\u001b[39m is_categorical_dtype(data\u001b[38;5;241m.\u001b[39mdtype)\n\u001b[0;32m    179\u001b[0m     \u001b[38;5;28mself\u001b[39m\u001b[38;5;241m.\u001b[39m_is_string \u001b[38;5;241m=\u001b[39m \u001b[38;5;28misinstance\u001b[39m(data\u001b[38;5;241m.\u001b[39mdtype, StringDtype)\n",
      "File \u001b[1;32m~\\anaconda3\\lib\\site-packages\\pandas\\core\\strings\\accessor.py:231\u001b[0m, in \u001b[0;36mStringMethods._validate\u001b[1;34m(data)\u001b[0m\n\u001b[0;32m    228\u001b[0m inferred_dtype \u001b[38;5;241m=\u001b[39m lib\u001b[38;5;241m.\u001b[39minfer_dtype(values, skipna\u001b[38;5;241m=\u001b[39m\u001b[38;5;28;01mTrue\u001b[39;00m)\n\u001b[0;32m    230\u001b[0m \u001b[38;5;28;01mif\u001b[39;00m inferred_dtype \u001b[38;5;129;01mnot\u001b[39;00m \u001b[38;5;129;01min\u001b[39;00m allowed_types:\n\u001b[1;32m--> 231\u001b[0m     \u001b[38;5;28;01mraise\u001b[39;00m \u001b[38;5;167;01mAttributeError\u001b[39;00m(\u001b[38;5;124m\"\u001b[39m\u001b[38;5;124mCan only use .str accessor with string values!\u001b[39m\u001b[38;5;124m\"\u001b[39m)\n\u001b[0;32m    232\u001b[0m \u001b[38;5;28;01mreturn\u001b[39;00m inferred_dtype\n",
      "\u001b[1;31mAttributeError\u001b[0m: Can only use .str accessor with string values!"
     ]
    }
   ],
   "source": [
    "#USING THE EXTRACTED FEATURE AS ''comment\" also adding an extra column to represent the length of string of the cleaned comments\n",
    "processed = pd.DataFrame({'comment' : clean })\n",
    "cmt['comment']= processed\n",
    "\n",
    "cmt['len of cleaned comment']=cmt['comment'].str.len().astype('int64')\n",
    "cmt.head(15)"
   ]
  },
  {
   "cell_type": "code",
   "execution_count": null,
   "id": "3b2ebf74",
   "metadata": {},
   "outputs": [],
   "source": [
    "print('Original Length = ',cmt['raw length'].sum())\n",
    "print('Clean Length =  ', cmt['len of cleaned comment'].sum())\n",
    "print('Total Reduction = ',cmt['raw length'].sum()-cmt['len of cleaned comment'].sum())"
   ]
  },
  {
   "cell_type": "code",
   "execution_count": null,
   "id": "04ca4566",
   "metadata": {},
   "outputs": [],
   "source": [
    "%%time\n",
    "comments = []\n",
    "\n",
    "for i in test.comment_text:\n",
    "    comments.append(preprocess(i))"
   ]
  },
  {
   "cell_type": "code",
   "execution_count": null,
   "id": "685a46f6",
   "metadata": {},
   "outputs": [],
   "source": [
    "# Visualizations"
   ]
  },
  {
   "cell_type": "markdown",
   "id": "e73ec3c0",
   "metadata": {},
   "source": [
    "Pandas-Profiling is an open source Python module with which we can quickly do an exploratory data analysis with just a few lines of code. It generates interactive reports in web format that can be presented to any person, even if they don’t know programming. It also offers report generation for the dataset with lots of features and customizations for the report generated. In short, what pandas-profiling does is save us all the work of visualizing and understanding the distribution of each variable. It generates a report with all the information easily available."
   ]
  },
  {
   "cell_type": "code",
   "execution_count": 34,
   "id": "ecb1a01f",
   "metadata": {},
   "outputs": [
    {
     "ename": "NameError",
     "evalue": "name 'pandas_profiling' is not defined",
     "output_type": "error",
     "traceback": [
      "\u001b[1;31m---------------------------------------------------------------------------\u001b[0m",
      "\u001b[1;31mNameError\u001b[0m                                 Traceback (most recent call last)",
      "Input \u001b[1;32mIn [34]\u001b[0m, in \u001b[0;36m<cell line: 1>\u001b[1;34m()\u001b[0m\n\u001b[1;32m----> 1\u001b[0m \u001b[43mpandas_profiling\u001b[49m\u001b[38;5;241m.\u001b[39mProfileReport(df)\n",
      "\u001b[1;31mNameError\u001b[0m: name 'pandas_profiling' is not defined"
     ]
    }
   ],
   "source": [
    "pandas_profiling.ProfileReport(df)"
   ]
  },
  {
   "cell_type": "code",
   "execution_count": 36,
   "id": "dd12cb78",
   "metadata": {},
   "outputs": [
    {
     "data": {
      "text/plain": [
       "<matplotlib.legend.Legend at 0x19c606ea040>"
      ]
     },
     "execution_count": 36,
     "metadata": {},
     "output_type": "execute_result"
    },
    {
     "data": {
      "image/png": "[encoded data removed]",
      "text/plain": [
       "<Figure size 1080x720 with 1 Axes>"
      ]
     },
     "metadata": {},
     "output_type": "display_data"
    }
   ],
   "source": [
    "# Visualizing the label distribution of comments using pie chart\n",
    "comments_labels = ['malignant', 'highly_malignant', 'rude', 'threat', 'abuse', 'loathe']\n",
    "df_distribution = cmt[comments_labels].sum()\\\n",
    "                            .to_frame()\\\n",
    "                            .rename(columns={0: 'count'})\\\n",
    "                            .sort_values('count')\n",
    "\n",
    "df_distribution.plot.pie(y = 'count', title = 'Label distribution over comments', autopct='%.2f', figsize = (15, 10))\\\n",
    "                            .legend(loc='center left', bbox_to_anchor=(1.3, 0.5))"
   ]
  },
  {
   "cell_type": "code",
   "execution_count": 39,
   "id": "4f309837",
   "metadata": {},
   "outputs": [
    {
     "data": {
      "image/png": "[encoded data removed]",
      "text/plain": [
       "<Figure size 1080x432 with 2 Axes>"
      ]
     },
     "metadata": {},
     "output_type": "display_data"
    }
   ],
   "source": [
    "# Comparing the comment text length distribution before cleaning and after cleaning\n",
    "fig, ax = plt.subplots(1,2,figsize=(15,6))\n",
    "j=0\n",
    "colors = ['orange','green']\n",
    "for i in df.columns[-2:]:\n",
    "    label_text = f\"Distribution of Comment Length: {i}\"\n",
    "    sns.distplot(df[i],ax=ax[j],bins=20,color=colors[j],label=label_text)\n",
    "    ax[j].set_xlabel(\"Message Length\")\n",
    "    ax[j].legend()\n",
    "    j += 1\n",
    "    \n",
    "plt.show()"
   ]
  },
  {
   "cell_type": "markdown",
   "id": "dfcd3480",
   "metadata": {},
   "source": [
    "Before cleaning comment_text column most of the comment's length lies between 0 to 1100 while after cleaning it has been reduced between 0 to 900."
   ]
  },
  {
   "cell_type": "code",
   "execution_count": 40,
   "id": "01e682b8",
   "metadata": {},
   "outputs": [
    {
     "ename": "NameError",
     "evalue": "name 'output_labels' is not defined",
     "output_type": "error",
     "traceback": [
      "\u001b[1;31m---------------------------------------------------------------------------\u001b[0m",
      "\u001b[1;31mNameError\u001b[0m                                 Traceback (most recent call last)",
      "Input \u001b[1;32mIn [40]\u001b[0m, in \u001b[0;36m<cell line: 3>\u001b[1;34m()\u001b[0m\n\u001b[0;32m      2\u001b[0m fig, ax \u001b[38;5;241m=\u001b[39m plt\u001b[38;5;241m.\u001b[39msubplots(\u001b[38;5;241m1\u001b[39m,\u001b[38;5;241m2\u001b[39m,figsize\u001b[38;5;241m=\u001b[39m(\u001b[38;5;241m15\u001b[39m,\u001b[38;5;241m5\u001b[39m))\n\u001b[0;32m      3\u001b[0m \u001b[38;5;28;01mfor\u001b[39;00m i \u001b[38;5;129;01min\u001b[39;00m \u001b[38;5;28mrange\u001b[39m(\u001b[38;5;241m2\u001b[39m):\n\u001b[1;32m----> 4\u001b[0m     sns\u001b[38;5;241m.\u001b[39mcountplot(data\u001b[38;5;241m=\u001b[39mdf[\u001b[43moutput_labels\u001b[49m][df[output_labels]\u001b[38;5;241m==\u001b[39mi], ax\u001b[38;5;241m=\u001b[39max[i])\n\u001b[0;32m      5\u001b[0m     \u001b[38;5;28;01mif\u001b[39;00m i \u001b[38;5;241m==\u001b[39m \u001b[38;5;241m0\u001b[39m:\n\u001b[0;32m      6\u001b[0m         ax[i]\u001b[38;5;241m.\u001b[39mset_title(\u001b[38;5;124m\"\u001b[39m\u001b[38;5;124mCount Plot for Normal Comments\u001b[39m\u001b[38;5;130;01m\\n\u001b[39;00m\u001b[38;5;124m\"\u001b[39m)\n",
      "\u001b[1;31mNameError\u001b[0m: name 'output_labels' is not defined"
     ]
    },
    {
     "data": {
      "image/png": "[encoded data removed]",
      "text/plain": [
       "<Figure size 1080x360 with 2 Axes>"
      ]
     },
     "metadata": {},
     "output_type": "display_data"
    }
   ],
   "source": [
    "# comparing normal comments and bad comments using count plot\n",
    "fig, ax = plt.subplots(1,2,figsize=(15,5))\n",
    "for i in range(2):\n",
    "    sns.countplot(data=df[output_labels][df[output_labels]==i], ax=ax[i])\n",
    "    if i == 0:\n",
    "        ax[i].set_title(\"Count Plot for Normal Comments\\n\")\n",
    "    else:\n",
    "        ax[i].set_title(\"Count Plot for Bad Comments\\n\")\n",
    "        \n",
    "    ax[i].set_xticklabels(output_labels, rotation=90, ha=\"right\")\n",
    "    p=0\n",
    "    for prop in ax[i].patches:\n",
    "        count = prop.get_height()\n",
    "        s = f\"{count} ({round(count*100/len(df),2)}%)\"\n",
    "        ax[i].text(p,count/2,s,rotation=90, ha=\"center\", fontweight=\"bold\")\n",
    "        p += 1\n",
    "\n",
    "plt.show()"
   ]
  },
  {
   "cell_type": "markdown",
   "id": "b9ae743b",
   "metadata": {},
   "source": [
    "Dataset consists of higher number of Normal Comments than Bad or Malignant Comments. Therefore, it is clear that dataset is imbalanced and needs to be handle accordingly. Most of the bad comments are of type malignant while least number of type threat is present in dataset. Majority of bad comments are of type malignant, rude and abuse."
   ]
  },
  {
   "cell_type": "code",
   "execution_count": null,
   "id": "3d1211f4",
   "metadata": {},
   "outputs": [],
   "source": []
  },
  {
   "cell_type": "code",
   "execution_count": 42,
   "id": "ba004361",
   "metadata": {},
   "outputs": [
    {
     "data": {
      "image/png": "[encoded data removed]",
      "text/plain": [
       "<Figure size 1080x720 with 2 Axes>"
      ]
     },
     "metadata": {},
     "output_type": "display_data"
    }
   ],
   "source": [
    "# Plotting heatmap for visualizing the correlation\n",
    "plt.figure(figsize=(15, 10))\n",
    "corr = cmt.corr() # corr() function provides the correlation value of each column\n",
    "sns.heatmap(corr, linewidth=0.5, linecolor='black', fmt='.0%', cmap='magma', annot=True)\n",
    "plt.show()"
   ]
  },
  {
   "cell_type": "code",
   "execution_count": null,
   "id": "f0ef3d69",
   "metadata": {},
   "outputs": [],
   "source": []
  },
  {
   "cell_type": "code",
   "execution_count": null,
   "id": "1002a814",
   "metadata": {},
   "outputs": [],
   "source": []
  },
  {
   "cell_type": "code",
   "execution_count": null,
   "id": "2ae07f3c",
   "metadata": {},
   "outputs": [],
   "source": []
  },
  {
   "cell_type": "code",
   "execution_count": 44,
   "id": "cb63c181",
   "metadata": {},
   "outputs": [
    {
     "ename": "NameError",
     "evalue": "name 'comment_text' is not defined",
     "output_type": "error",
     "traceback": [
      "\u001b[1;31m---------------------------------------------------------------------------\u001b[0m",
      "\u001b[1;31mNameError\u001b[0m                                 Traceback (most recent call last)",
      "Input \u001b[1;32mIn [44]\u001b[0m, in \u001b[0;36m<cell line: 2>\u001b[1;34m()\u001b[0m\n\u001b[0;32m      1\u001b[0m \u001b[38;5;66;03m#USING THE EXTRACTED FEATURE AS ''comment\" also adding an extra column to represent the length of string of the cleaned comments\u001b[39;00m\n\u001b[1;32m----> 2\u001b[0m processed \u001b[38;5;241m=\u001b[39m pd\u001b[38;5;241m.\u001b[39mDataFrame({\u001b[38;5;124m'\u001b[39m\u001b[38;5;124mcomment\u001b[39m\u001b[38;5;124m'\u001b[39m : \u001b[43mcomment_text\u001b[49m })\n\u001b[0;32m      3\u001b[0m test[\u001b[38;5;124m'\u001b[39m\u001b[38;5;124mcomment\u001b[39m\u001b[38;5;124m'\u001b[39m]\u001b[38;5;241m=\u001b[39m processed\n\u001b[0;32m      4\u001b[0m test\u001b[38;5;241m.\u001b[39mhead(\u001b[38;5;241m5\u001b[39m)\n",
      "\u001b[1;31mNameError\u001b[0m: name 'comment_text' is not defined"
     ]
    }
   ],
   "source": [
    "#USING THE EXTRACTED FEATURE AS ''comment\" also adding an extra column to represent the length of string of the cleaned comments\n",
    "processed = pd.DataFrame({'comment' : comment_text })\n",
    "test['comment']= processed\n",
    "test.head(5)"
   ]
  },
  {
   "cell_type": "code",
   "execution_count": 45,
   "id": "7399651c",
   "metadata": {},
   "outputs": [
    {
     "ename": "NameError",
     "evalue": "name 'WordCloud' is not defined",
     "output_type": "error",
     "traceback": [
      "\u001b[1;31m---------------------------------------------------------------------------\u001b[0m",
      "\u001b[1;31mNameError\u001b[0m                                 Traceback (most recent call last)",
      "Input \u001b[1;32mIn [45]\u001b[0m, in \u001b[0;36m<cell line: 2>\u001b[1;34m()\u001b[0m\n\u001b[0;32m      1\u001b[0m malignant \u001b[38;5;241m=\u001b[39m cmt[\u001b[38;5;124m'\u001b[39m\u001b[38;5;124mcomment\u001b[39m\u001b[38;5;124m'\u001b[39m][cmt[\u001b[38;5;124m'\u001b[39m\u001b[38;5;124mmalignant\u001b[39m\u001b[38;5;124m'\u001b[39m]\u001b[38;5;241m==\u001b[39m\u001b[38;5;241m1\u001b[39m]\n\u001b[1;32m----> 2\u001b[0m wordcloud \u001b[38;5;241m=\u001b[39m \u001b[43mWordCloud\u001b[49m(width\u001b[38;5;241m=\u001b[39m\u001b[38;5;241m700\u001b[39m,height\u001b[38;5;241m=\u001b[39m\u001b[38;5;241m500\u001b[39m,background_color\u001b[38;5;241m=\u001b[39m\u001b[38;5;124m'\u001b[39m\u001b[38;5;124mblack\u001b[39m\u001b[38;5;124m'\u001b[39m,max_words\u001b[38;5;241m=\u001b[39m\u001b[38;5;241m50\u001b[39m)\u001b[38;5;241m.\u001b[39mgenerate(\u001b[38;5;124m'\u001b[39m\u001b[38;5;124m \u001b[39m\u001b[38;5;124m'\u001b[39m\u001b[38;5;241m.\u001b[39mjoin(malignant))\n\u001b[0;32m      3\u001b[0m plt\u001b[38;5;241m.\u001b[39mfigure(figsize \u001b[38;5;241m=\u001b[39m (\u001b[38;5;241m7\u001b[39m,\u001b[38;5;241m5\u001b[39m), facecolor \u001b[38;5;241m=\u001b[39m \u001b[38;5;124m'\u001b[39m\u001b[38;5;124mwhite\u001b[39m\u001b[38;5;124m'\u001b[39m, edgecolor\u001b[38;5;241m=\u001b[39m\u001b[38;5;124m'\u001b[39m\u001b[38;5;124mblue\u001b[39m\u001b[38;5;124m'\u001b[39m) \n\u001b[0;32m      4\u001b[0m plt\u001b[38;5;241m.\u001b[39mimshow(wordcloud)\n",
      "\u001b[1;31mNameError\u001b[0m: name 'WordCloud' is not defined"
     ]
    }
   ],
   "source": [
    "malignant = cmt['comment'][cmt['malignant']==1]\n",
    "wordcloud = WordCloud(width=700,height=500,background_color='black',max_words=50).generate(' '.join(malignant))\n",
    "plt.figure(figsize = (7,5), facecolor = 'white', edgecolor='blue') \n",
    "plt.imshow(wordcloud)\n",
    "plt.axis('off')\n",
    "plt.tight_layout(pad=0)\n",
    "plt.title('WORD CLOUDS FOR MALIGNANT COMMENTS')\n",
    "plt.show()"
   ]
  },
  {
   "cell_type": "code",
   "execution_count": null,
   "id": "7da77d79",
   "metadata": {},
   "outputs": [],
   "source": [
    "highly_malignant = cmt['comment'][cmt['highly_malignant']==1]\n",
    "wordcloud = WordCloud(width=700,height=500,background_color='black',max_words=50).generate(' '.join(highly_malignant))\n",
    "plt.figure(figsize = (7,5), facecolor = 'white', edgecolor='blue') \n",
    "plt.imshow(wordcloud)\n",
    "plt.axis('off')\n",
    "plt.tight_layout(pad=0)\n",
    "plt.title('WORD CLOUDS FOR HIGHLY MALIGNANT COMMENTS')\n",
    "plt.show()"
   ]
  },
  {
   "cell_type": "code",
   "execution_count": null,
   "id": "e08a77de",
   "metadata": {},
   "outputs": [],
   "source": [
    "rude = cmt['comment'][cmt['rude']==1]\n",
    "wordcloud = WordCloud(width=700,height=500,background_color='black',max_words=50).generate(' '.join(rude))\n",
    "plt.figure(figsize = (7,5), facecolor = 'white', edgecolor='blue') \n",
    "plt.imshow(wordcloud)\n",
    "plt.axis('off')\n",
    "plt.tight_layout(pad=0)\n",
    "plt.title('WORD CLOUDS FOR RUDE COMMENTS')\n",
    "plt.show()"
   ]
  },
  {
   "cell_type": "code",
   "execution_count": null,
   "id": "2bc210f4",
   "metadata": {},
   "outputs": [],
   "source": [
    "normal = cmt['comment'][cmt['normal']==1]\n",
    "wordcloud = WordCloud(width=700,height=500,background_color='black',max_words=50).generate(' '.join(normal))\n",
    "plt.figure(figsize = (7,5), facecolor = 'white', edgecolor='blue') \n",
    "plt.imshow(wordcloud)\n",
    "plt.axis('off')\n",
    "plt.tight_layout(pad=0)\n",
    "plt.title('WORD CLOUDS FOR NORMAL COMMENTS')\n",
    "plt.show()"
   ]
  },
  {
   "cell_type": "code",
   "execution_count": null,
   "id": "ccb838c5",
   "metadata": {},
   "outputs": [],
   "source": [
    "# Model building"
   ]
  },
  {
   "cell_type": "code",
   "execution_count": 49,
   "id": "379035fe",
   "metadata": {},
   "outputs": [
    {
     "data": {
      "text/html": [
       "<div>\n",
       "<style scoped>\n",
       "    .dataframe tbody tr th:only-of-type {\n",
       "        vertical-align: middle;\n",
       "    }\n",
       "\n",
       "    .dataframe tbody tr th {\n",
       "        vertical-align: top;\n",
       "    }\n",
       "\n",
       "    .dataframe thead th {\n",
       "        text-align: right;\n",
       "    }\n",
       "</style>\n",
       "<table border=\"1\" class=\"dataframe\">\n",
       "  <thead>\n",
       "    <tr style=\"text-align: right;\">\n",
       "      <th></th>\n",
       "      <th>comment_text</th>\n",
       "      <th>malignant</th>\n",
       "      <th>highly_malignant</th>\n",
       "      <th>rude</th>\n",
       "      <th>threat</th>\n",
       "      <th>abuse</th>\n",
       "      <th>loathe</th>\n",
       "      <th>normal</th>\n",
       "      <th>raw length</th>\n",
       "      <th>comment</th>\n",
       "    </tr>\n",
       "  </thead>\n",
       "  <tbody>\n",
       "    <tr>\n",
       "      <th>7549</th>\n",
       "      <td>Arichnad|user]] • talk • contribs) 11:48, 3 Ju...</td>\n",
       "      <td>0</td>\n",
       "      <td>0</td>\n",
       "      <td>0</td>\n",
       "      <td>0</td>\n",
       "      <td>0</td>\n",
       "      <td>0</td>\n",
       "      <td>1</td>\n",
       "      <td>53</td>\n",
       "      <td>NaN</td>\n",
       "    </tr>\n",
       "    <tr>\n",
       "      <th>94788</th>\n",
       "      <td>HELLO AGAIN \\n\\ndont give a fcuk bull shit on ...</td>\n",
       "      <td>1</td>\n",
       "      <td>0</td>\n",
       "      <td>1</td>\n",
       "      <td>0</td>\n",
       "      <td>1</td>\n",
       "      <td>0</td>\n",
       "      <td>0</td>\n",
       "      <td>116</td>\n",
       "      <td>NaN</td>\n",
       "    </tr>\n",
       "    <tr>\n",
       "      <th>87857</th>\n",
       "      <td>\"\\n Hey , before you attempt to make a patheti...</td>\n",
       "      <td>0</td>\n",
       "      <td>0</td>\n",
       "      <td>0</td>\n",
       "      <td>0</td>\n",
       "      <td>0</td>\n",
       "      <td>0</td>\n",
       "      <td>1</td>\n",
       "      <td>253</td>\n",
       "      <td>NaN</td>\n",
       "    </tr>\n",
       "    <tr>\n",
       "      <th>124571</th>\n",
       "      <td>Exactly. Justinthebull, straw man arguments wi...</td>\n",
       "      <td>0</td>\n",
       "      <td>0</td>\n",
       "      <td>0</td>\n",
       "      <td>0</td>\n",
       "      <td>0</td>\n",
       "      <td>0</td>\n",
       "      <td>1</td>\n",
       "      <td>62</td>\n",
       "      <td>NaN</td>\n",
       "    </tr>\n",
       "  </tbody>\n",
       "</table>\n",
       "</div>"
      ],
      "text/plain": [
       "                                             comment_text  malignant  \\\n",
       "7549    Arichnad|user]] • talk • contribs) 11:48, 3 Ju...          0   \n",
       "94788   HELLO AGAIN \\n\\ndont give a fcuk bull shit on ...          1   \n",
       "87857   \"\\n Hey , before you attempt to make a patheti...          0   \n",
       "124571  Exactly. Justinthebull, straw man arguments wi...          0   \n",
       "\n",
       "        highly_malignant  rude  threat  abuse  loathe  normal  raw length  \\\n",
       "7549                   0     0       0      0       0       1          53   \n",
       "94788                  0     1       0      1       0       0         116   \n",
       "87857                  0     0       0      0       0       1         253   \n",
       "124571                 0     0       0      0       0       1          62   \n",
       "\n",
       "        comment  \n",
       "7549        NaN  \n",
       "94788       NaN  \n",
       "87857       NaN  \n",
       "124571      NaN  "
      ]
     },
     "execution_count": 49,
     "metadata": {},
     "output_type": "execute_result"
    }
   ],
   "source": [
    "cmt.sample(4)"
   ]
  },
  {
   "cell_type": "code",
   "execution_count": 46,
   "id": "6cce6306",
   "metadata": {},
   "outputs": [],
   "source": [
    "X=cmt.comment\n",
    "y=cmt.iloc[:,1:-3]"
   ]
  },
  {
   "cell_type": "code",
   "execution_count": 47,
   "id": "6fc1e37b",
   "metadata": {},
   "outputs": [
    {
     "data": {
      "text/plain": [
       "0   NaN\n",
       "1   NaN\n",
       "2   NaN\n",
       "3   NaN\n",
       "Name: comment, dtype: float64"
      ]
     },
     "execution_count": 47,
     "metadata": {},
     "output_type": "execute_result"
    }
   ],
   "source": [
    "X.head(4)"
   ]
  },
  {
   "cell_type": "code",
   "execution_count": 48,
   "id": "db9b05a6",
   "metadata": {},
   "outputs": [
    {
     "data": {
      "text/html": [
       "<div>\n",
       "<style scoped>\n",
       "    .dataframe tbody tr th:only-of-type {\n",
       "        vertical-align: middle;\n",
       "    }\n",
       "\n",
       "    .dataframe tbody tr th {\n",
       "        vertical-align: top;\n",
       "    }\n",
       "\n",
       "    .dataframe thead th {\n",
       "        text-align: right;\n",
       "    }\n",
       "</style>\n",
       "<table border=\"1\" class=\"dataframe\">\n",
       "  <thead>\n",
       "    <tr style=\"text-align: right;\">\n",
       "      <th></th>\n",
       "      <th>malignant</th>\n",
       "      <th>highly_malignant</th>\n",
       "      <th>rude</th>\n",
       "      <th>threat</th>\n",
       "      <th>abuse</th>\n",
       "      <th>loathe</th>\n",
       "    </tr>\n",
       "  </thead>\n",
       "  <tbody>\n",
       "    <tr>\n",
       "      <th>0</th>\n",
       "      <td>0</td>\n",
       "      <td>0</td>\n",
       "      <td>0</td>\n",
       "      <td>0</td>\n",
       "      <td>0</td>\n",
       "      <td>0</td>\n",
       "    </tr>\n",
       "    <tr>\n",
       "      <th>1</th>\n",
       "      <td>0</td>\n",
       "      <td>0</td>\n",
       "      <td>0</td>\n",
       "      <td>0</td>\n",
       "      <td>0</td>\n",
       "      <td>0</td>\n",
       "    </tr>\n",
       "    <tr>\n",
       "      <th>2</th>\n",
       "      <td>0</td>\n",
       "      <td>0</td>\n",
       "      <td>0</td>\n",
       "      <td>0</td>\n",
       "      <td>0</td>\n",
       "      <td>0</td>\n",
       "    </tr>\n",
       "    <tr>\n",
       "      <th>3</th>\n",
       "      <td>0</td>\n",
       "      <td>0</td>\n",
       "      <td>0</td>\n",
       "      <td>0</td>\n",
       "      <td>0</td>\n",
       "      <td>0</td>\n",
       "    </tr>\n",
       "  </tbody>\n",
       "</table>\n",
       "</div>"
      ],
      "text/plain": [
       "   malignant  highly_malignant  rude  threat  abuse  loathe\n",
       "0          0                 0     0       0      0       0\n",
       "1          0                 0     0       0      0       0\n",
       "2          0                 0     0       0      0       0\n",
       "3          0                 0     0       0      0       0"
      ]
     },
     "execution_count": 48,
     "metadata": {},
     "output_type": "execute_result"
    }
   ],
   "source": [
    "y.head(4)"
   ]
  },
  {
   "cell_type": "code",
   "execution_count": 50,
   "id": "70b42ebe",
   "metadata": {},
   "outputs": [
    {
     "ename": "AttributeError",
     "evalue": "'float' object has no attribute 'lower'",
     "output_type": "error",
     "traceback": [
      "\u001b[1;31m---------------------------------------------------------------------------\u001b[0m",
      "\u001b[1;31mAttributeError\u001b[0m                            Traceback (most recent call last)",
      "Input \u001b[1;32mIn [50]\u001b[0m, in \u001b[0;36m<cell line: 2>\u001b[1;34m()\u001b[0m\n\u001b[0;32m      1\u001b[0m tfidf\u001b[38;5;241m=\u001b[39mtf(\u001b[38;5;28minput\u001b[39m\u001b[38;5;241m=\u001b[39m\u001b[38;5;124m'\u001b[39m\u001b[38;5;124mcontent\u001b[39m\u001b[38;5;124m'\u001b[39m, encoding\u001b[38;5;241m=\u001b[39m\u001b[38;5;124m'\u001b[39m\u001b[38;5;124mutf-8\u001b[39m\u001b[38;5;124m'\u001b[39m, lowercase\u001b[38;5;241m=\u001b[39m\u001b[38;5;28;01mTrue\u001b[39;00m,stop_words\u001b[38;5;241m=\u001b[39m\u001b[38;5;124m'\u001b[39m\u001b[38;5;124menglish\u001b[39m\u001b[38;5;124m'\u001b[39m,max_features\u001b[38;5;241m=\u001b[39m\u001b[38;5;241m10000\u001b[39m,ngram_range\u001b[38;5;241m=\u001b[39m(\u001b[38;5;241m1\u001b[39m,\u001b[38;5;241m3\u001b[39m))\n\u001b[1;32m----> 2\u001b[0m x\u001b[38;5;241m=\u001b[39m\u001b[43mtfidf\u001b[49m\u001b[38;5;241;43m.\u001b[39;49m\u001b[43mfit_transform\u001b[49m\u001b[43m(\u001b[49m\u001b[43mX\u001b[49m\u001b[43m)\u001b[49m\u001b[38;5;241m.\u001b[39mtoarray()\n",
      "File \u001b[1;32m~\\anaconda3\\lib\\site-packages\\sklearn\\feature_extraction\\text.py:2077\u001b[0m, in \u001b[0;36mTfidfVectorizer.fit_transform\u001b[1;34m(self, raw_documents, y)\u001b[0m\n\u001b[0;32m   2058\u001b[0m \u001b[38;5;124;03m\"\"\"Learn vocabulary and idf, return document-term matrix.\u001b[39;00m\n\u001b[0;32m   2059\u001b[0m \n\u001b[0;32m   2060\u001b[0m \u001b[38;5;124;03mThis is equivalent to fit followed by transform, but more efficiently\u001b[39;00m\n\u001b[1;32m   (...)\u001b[0m\n\u001b[0;32m   2074\u001b[0m \u001b[38;5;124;03m    Tf-idf-weighted document-term matrix.\u001b[39;00m\n\u001b[0;32m   2075\u001b[0m \u001b[38;5;124;03m\"\"\"\u001b[39;00m\n\u001b[0;32m   2076\u001b[0m \u001b[38;5;28mself\u001b[39m\u001b[38;5;241m.\u001b[39m_check_params()\n\u001b[1;32m-> 2077\u001b[0m X \u001b[38;5;241m=\u001b[39m \u001b[38;5;28;43msuper\u001b[39;49m\u001b[43m(\u001b[49m\u001b[43m)\u001b[49m\u001b[38;5;241;43m.\u001b[39;49m\u001b[43mfit_transform\u001b[49m\u001b[43m(\u001b[49m\u001b[43mraw_documents\u001b[49m\u001b[43m)\u001b[49m\n\u001b[0;32m   2078\u001b[0m \u001b[38;5;28mself\u001b[39m\u001b[38;5;241m.\u001b[39m_tfidf\u001b[38;5;241m.\u001b[39mfit(X)\n\u001b[0;32m   2079\u001b[0m \u001b[38;5;66;03m# X is already a transformed view of raw_documents so\u001b[39;00m\n\u001b[0;32m   2080\u001b[0m \u001b[38;5;66;03m# we set copy to False\u001b[39;00m\n",
      "File \u001b[1;32m~\\anaconda3\\lib\\site-packages\\sklearn\\feature_extraction\\text.py:1330\u001b[0m, in \u001b[0;36mCountVectorizer.fit_transform\u001b[1;34m(self, raw_documents, y)\u001b[0m\n\u001b[0;32m   1322\u001b[0m             warnings\u001b[38;5;241m.\u001b[39mwarn(\n\u001b[0;32m   1323\u001b[0m                 \u001b[38;5;124m\"\u001b[39m\u001b[38;5;124mUpper case characters found in\u001b[39m\u001b[38;5;124m\"\u001b[39m\n\u001b[0;32m   1324\u001b[0m                 \u001b[38;5;124m\"\u001b[39m\u001b[38;5;124m vocabulary while \u001b[39m\u001b[38;5;124m'\u001b[39m\u001b[38;5;124mlowercase\u001b[39m\u001b[38;5;124m'\u001b[39m\u001b[38;5;124m\"\u001b[39m\n\u001b[0;32m   1325\u001b[0m                 \u001b[38;5;124m\"\u001b[39m\u001b[38;5;124m is True. These entries will not\u001b[39m\u001b[38;5;124m\"\u001b[39m\n\u001b[0;32m   1326\u001b[0m                 \u001b[38;5;124m\"\u001b[39m\u001b[38;5;124m be matched with any documents\u001b[39m\u001b[38;5;124m\"\u001b[39m\n\u001b[0;32m   1327\u001b[0m             )\n\u001b[0;32m   1328\u001b[0m             \u001b[38;5;28;01mbreak\u001b[39;00m\n\u001b[1;32m-> 1330\u001b[0m vocabulary, X \u001b[38;5;241m=\u001b[39m \u001b[38;5;28;43mself\u001b[39;49m\u001b[38;5;241;43m.\u001b[39;49m\u001b[43m_count_vocab\u001b[49m\u001b[43m(\u001b[49m\u001b[43mraw_documents\u001b[49m\u001b[43m,\u001b[49m\u001b[43m \u001b[49m\u001b[38;5;28;43mself\u001b[39;49m\u001b[38;5;241;43m.\u001b[39;49m\u001b[43mfixed_vocabulary_\u001b[49m\u001b[43m)\u001b[49m\n\u001b[0;32m   1332\u001b[0m \u001b[38;5;28;01mif\u001b[39;00m \u001b[38;5;28mself\u001b[39m\u001b[38;5;241m.\u001b[39mbinary:\n\u001b[0;32m   1333\u001b[0m     X\u001b[38;5;241m.\u001b[39mdata\u001b[38;5;241m.\u001b[39mfill(\u001b[38;5;241m1\u001b[39m)\n",
      "File \u001b[1;32m~\\anaconda3\\lib\\site-packages\\sklearn\\feature_extraction\\text.py:1201\u001b[0m, in \u001b[0;36mCountVectorizer._count_vocab\u001b[1;34m(self, raw_documents, fixed_vocab)\u001b[0m\n\u001b[0;32m   1199\u001b[0m \u001b[38;5;28;01mfor\u001b[39;00m doc \u001b[38;5;129;01min\u001b[39;00m raw_documents:\n\u001b[0;32m   1200\u001b[0m     feature_counter \u001b[38;5;241m=\u001b[39m {}\n\u001b[1;32m-> 1201\u001b[0m     \u001b[38;5;28;01mfor\u001b[39;00m feature \u001b[38;5;129;01min\u001b[39;00m \u001b[43manalyze\u001b[49m\u001b[43m(\u001b[49m\u001b[43mdoc\u001b[49m\u001b[43m)\u001b[49m:\n\u001b[0;32m   1202\u001b[0m         \u001b[38;5;28;01mtry\u001b[39;00m:\n\u001b[0;32m   1203\u001b[0m             feature_idx \u001b[38;5;241m=\u001b[39m vocabulary[feature]\n",
      "File \u001b[1;32m~\\anaconda3\\lib\\site-packages\\sklearn\\feature_extraction\\text.py:113\u001b[0m, in \u001b[0;36m_analyze\u001b[1;34m(doc, analyzer, tokenizer, ngrams, preprocessor, decoder, stop_words)\u001b[0m\n\u001b[0;32m    111\u001b[0m \u001b[38;5;28;01melse\u001b[39;00m:\n\u001b[0;32m    112\u001b[0m     \u001b[38;5;28;01mif\u001b[39;00m preprocessor \u001b[38;5;129;01mis\u001b[39;00m \u001b[38;5;129;01mnot\u001b[39;00m \u001b[38;5;28;01mNone\u001b[39;00m:\n\u001b[1;32m--> 113\u001b[0m         doc \u001b[38;5;241m=\u001b[39m \u001b[43mpreprocessor\u001b[49m\u001b[43m(\u001b[49m\u001b[43mdoc\u001b[49m\u001b[43m)\u001b[49m\n\u001b[0;32m    114\u001b[0m     \u001b[38;5;28;01mif\u001b[39;00m tokenizer \u001b[38;5;129;01mis\u001b[39;00m \u001b[38;5;129;01mnot\u001b[39;00m \u001b[38;5;28;01mNone\u001b[39;00m:\n\u001b[0;32m    115\u001b[0m         doc \u001b[38;5;241m=\u001b[39m tokenizer(doc)\n",
      "File \u001b[1;32m~\\anaconda3\\lib\\site-packages\\sklearn\\feature_extraction\\text.py:71\u001b[0m, in \u001b[0;36m_preprocess\u001b[1;34m(doc, accent_function, lower)\u001b[0m\n\u001b[0;32m     52\u001b[0m \u001b[38;5;124;03m\"\"\"Chain together an optional series of text preprocessing steps to\u001b[39;00m\n\u001b[0;32m     53\u001b[0m \u001b[38;5;124;03mapply to a document.\u001b[39;00m\n\u001b[0;32m     54\u001b[0m \n\u001b[1;32m   (...)\u001b[0m\n\u001b[0;32m     68\u001b[0m \u001b[38;5;124;03m    preprocessed string\u001b[39;00m\n\u001b[0;32m     69\u001b[0m \u001b[38;5;124;03m\"\"\"\u001b[39;00m\n\u001b[0;32m     70\u001b[0m \u001b[38;5;28;01mif\u001b[39;00m lower:\n\u001b[1;32m---> 71\u001b[0m     doc \u001b[38;5;241m=\u001b[39m \u001b[43mdoc\u001b[49m\u001b[38;5;241;43m.\u001b[39;49m\u001b[43mlower\u001b[49m()\n\u001b[0;32m     72\u001b[0m \u001b[38;5;28;01mif\u001b[39;00m accent_function \u001b[38;5;129;01mis\u001b[39;00m \u001b[38;5;129;01mnot\u001b[39;00m \u001b[38;5;28;01mNone\u001b[39;00m:\n\u001b[0;32m     73\u001b[0m     doc \u001b[38;5;241m=\u001b[39m accent_function(doc)\n",
      "\u001b[1;31mAttributeError\u001b[0m: 'float' object has no attribute 'lower'"
     ]
    }
   ],
   "source": [
    "tfidf=tf(input='content', encoding='utf-8', lowercase=True,stop_words='english',max_features=10000,ngram_range=(1,3))\n",
    "x=tfidf.fit_transform(X).toarray()\n"
   ]
  },
  {
   "cell_type": "code",
   "execution_count": null,
   "id": "565481fc",
   "metadata": {},
   "outputs": [],
   "source": [
    "#CHECKING THE SELECTED FEATURE NAMES\n",
    "tfidf.get_feature_names()[1:9]"
   ]
  },
  {
   "cell_type": "code",
   "execution_count": null,
   "id": "7cd96af6",
   "metadata": {},
   "outputs": [],
   "source": [
    "x_train,x_test,y_train,y_test=tts(x,y,test_size=0.30,random_state=95)"
   ]
  },
  {
   "cell_type": "code",
   "execution_count": null,
   "id": "ccded567",
   "metadata": {},
   "outputs": [],
   "source": [
    "print('shape of x_train:',x_train.shape,'\\nshape of x_test:',x_test.shape)\n",
    "\n",
    "print('shape of y_train:',y_train.shape,'\\nshape of y_test:',y_test.shape)"
   ]
  },
  {
   "cell_type": "code",
   "execution_count": null,
   "id": "4df63033",
   "metadata": {},
   "outputs": [],
   "source": [
    "labels=['malignant','highly_malignant','rude','threat','abuse','loathe','normal']"
   ]
  },
  {
   "cell_type": "code",
   "execution_count": null,
   "id": "82e0e79b",
   "metadata": {},
   "outputs": [],
   "source": [
    "# LOGISTIC REGRESSION"
   ]
  },
  {
   "cell_type": "code",
   "execution_count": null,
   "id": "8ad59ec8",
   "metadata": {},
   "outputs": [],
   "source": [
    "LogReg_pipeline = Pipeline([('clf', OneVsRestClassifier(LogisticRegression(solver='sag'), n_jobs=1))])\n",
    "F1=[]\n",
    "ACCURACY = []\n",
    "PRECESION = []\n",
    "RECALL = []\n",
    "RMSE = []\n",
    "MSE = []\n",
    "AUC=[]\n",
    "TPR=[]\n",
    "FPR=[]\n",
    "CV_ACC=[]\n",
    "LOG_LOSS=[]\n",
    "\n",
    "for category in labels:\n",
    "    print('Processing {}'.format(category))\n",
    "    print('-------------------------------------')\n",
    "    LogReg_pipeline.fit(x_train, y_train[category])\n",
    "    pred = LogReg_pipeline.predict(x_test)\n",
    "    f1=f1_score(pred,y_test[category])\n",
    "    acc=accuracy_score(pred,y_test[category])\n",
    "    clr=classification_report(y_test[category],pred)\n",
    "    pre=precision_score(y_test[category],pred)\n",
    "    rec=recall_score(y_test[category],pred)\n",
    "    mse=mean_squared_error(y_test[category],pred)\n",
    "    rmse=np.sqrt(mse)\n",
    "    log = log_loss( y_test[category],pred)\n",
    "    auc_scr=roc_auc_score(y_test[category],pred)\n",
    "    tpr,fpr,threshold=roc_curve(y_test[category],pred)\n",
    "    conf=confusion_matrix(y_test[category],pred)\n",
    "        \n",
    "\n",
    "    print('ACCURACY SCORE:', acc)\n",
    "    print('\\nF1 score:',f1)\n",
    "    print('\\nCLASSIFICATION REPORT:\\n',clr)\n",
    "    print('\\nPRECISION:\\n',pre)\n",
    "    print('\\nRECALL:\\n',rec)\n",
    "    print('\\nMEAN SQUARED ERROR:\\n',mse)\n",
    "    print('\\nROOT MEAN SQ. ERROR:\\n',rmse)\n",
    "    print('\\nLOG_LOSS:',log)\n",
    "    print('\\nAUC_ROC Score:\\n',auc_scr)\n",
    "    print('\\nTPR:',tpr,'\\nFPR:',fpr)\n",
    "    \n",
    "    print('\\n')\n",
    "    #plotting the auc_roc curve\n",
    "    print('\\n\\n\\t____________________________________________ROC_AUC CURVE_______________________________________________')\n",
    "    print()\n",
    "    sns.set(context='talk',style='whitegrid',palette='dark',font='monospace',font_scale=1)\n",
    "    plt.figure(figsize=(8,3),dpi=120)\n",
    "    plt.plot([0,1],[0,1],color='lime',linestyle=\":\",lw=3)\n",
    "    plt.plot(tpr,fpr,label=\"AUC= %0.2f\" % auc_scr,color='deepskyblue',lw=3,linestyle='--')\n",
    "    plt.legend(fancybox=True,shadow=True, fontsize='medium')\n",
    "    \n",
    "    plt.xlabel(\"TPR\",weight='bold',fontsize=10)\n",
    "    plt.ylabel('FPR',weight='bold',fontsize=10)\n",
    "    plt.title('RECEIVER OPERATING CHARACTERISTICS CURVE\\n',size=10,weight='bold',loc='center')\n",
    "    plt.show()\n",
    "    print('\\n')\n",
    "    #plotting confusion matrix\n",
    "    print('\\n\\n\\t____________________________________________CONFUSION MATRIX___________________________________________\\n')\n",
    "    sns.set(context='talk',style='whitegrid',palette='dark',font='monospace',font_scale=1.3)\n",
    "    plt.figure(figsize=(7,4),dpi=120)\n",
    "    sns.heatmap(conf,annot=True,fmt='.2f',vmax=1,vmin=0,cmap='nipy_spectral',linewidths=0.8, linecolor='blue')\n",
    "    plt.title('HEATMAP OF CONFUSION MATRIX\\n',size=10,weight='bold',loc='center')\n",
    "    plt.show()\n",
    "    print('\\n')\n",
    "    \n",
    "    ACCURACY.append(acc)\n",
    "    F1.append(f1)\n",
    "    PRECESION.append(pre)\n",
    "    RECALL.append(rec)\n",
    "    RMSE.append(rmse)\n",
    "    MSE.append(mse)\n",
    "    AUC.append(auc_scr)\n",
    "    TPR.append(tpr)\n",
    "    FPR.append(fpr)\n",
    "    LOG_LOSS.append(log)\n",
    "    \n",
    "#creating a dataframe to show the performance of the model\n",
    "\n",
    "logi_results = pd.DataFrame({\"LABELS\":labels,\"F1\":F1,'Acuracy':ACCURACY,'Precision': PRECESION ,'Recall': RECALL,\n",
    "                               'RMSE':RMSE,'MSE':MSE,'AUC':AUC,'LOG_LOSS':LOG_LOSS})\n",
    "                               \n",
    "logi_results.style.set_properties(**{'background-color':'midnightblue','color': 'lime','border-color': 'darkorange'})           "
   ]
  },
  {
   "cell_type": "code",
   "execution_count": null,
   "id": "c009e44f",
   "metadata": {},
   "outputs": [],
   "source": [
    "# PASSIVE AGGRESSIVE CLASSIFIER"
   ]
  },
  {
   "cell_type": "code",
   "execution_count": null,
   "id": "37cd1fd9",
   "metadata": {},
   "outputs": [],
   "source": [
    "pac_pipeline = Pipeline([('clf', OneVsRestClassifier(PassiveAggressiveClassifier(), n_jobs=1))])\n",
    "F1=[]\n",
    "ACCURACY = []\n",
    "PRECESION = []\n",
    "RECALL = []\n",
    "RMSE = []\n",
    "MSE = []\n",
    "AUC=[]\n",
    "TPR=[]\n",
    "FPR=[]\n",
    "CV_ACC=[]\n",
    "LOG_LOSS=[]\n",
    "for category in labels:\n",
    "    print('Processing {}'.format(category))\n",
    "    print('-------------------------------------')\n",
    "    pac_pipeline.fit(x_train, y_train[category])\n",
    "    pred = pac_pipeline.predict(x_test)\n",
    "    f1=f1_score(pred,y_test[category])\n",
    "    acc=accuracy_score(pred,y_test[category])\n",
    "    clr=classification_report(y_test[category],pred)\n",
    "    pre=precision_score(y_test[category],pred)\n",
    "    rec=recall_score(y_test[category],pred)\n",
    "    mse=mean_squared_error(y_test[category],pred)\n",
    "    rmse=np.sqrt(mse)\n",
    "    log = log_loss( y_test[category],pred)\n",
    "    auc_scr=roc_auc_score(y_test[category],pred)\n",
    "    tpr,fpr,threshold=roc_curve(y_test[category],pred)\n",
    "    conf=confusion_matrix(y_test[category],pred)\n",
    "        \n",
    "\n",
    "    print('ACCURACY SCORE:', acc)\n",
    "    print('\\nF1 score:',f1)\n",
    "    print('\\nCLASSIFICATION REPORT:\\n',clr)\n",
    "    print('\\nPRECISION:\\n',pre)\n",
    "    print('\\nRECALL:\\n',rec)\n",
    "    print('\\nMEAN SQUARED ERROR:\\n',mse)\n",
    "    print('\\nROOT MEAN SQ. ERROR:\\n',rmse)\n",
    "    print('\\nLOG_LOSS:',log)\n",
    "    print('\\nAUC_ROC Score:\\n',auc_scr)\n",
    "    print('\\nTPR:',tpr,'\\nFPR:',fpr)\n",
    "    print('\\n')\n",
    "    #plotting the auc_roc curve\n",
    "    print('\\n\\n\\t____________________________________________ROC_AUC CURVE_______________________________________________')\n",
    "    print()\n",
    "    sns.set(context='talk',style='whitegrid',palette='dark',font='monospace',font_scale=1)\n",
    "    plt.figure(figsize=(8,3),dpi=120)\n",
    "    plt.plot([0,1],[0,1],color='lime',linestyle=\":\",lw=3)\n",
    "    plt.plot(tpr,fpr,label=\"AUC= %0.2f\" % auc_scr,color='deepskyblue',lw=3,linestyle='--')\n",
    "    plt.legend(fancybox=True,shadow=True, fontsize='medium')\n",
    "    \n",
    "    plt.xlabel(\"TPR\",weight='bold',fontsize=10)\n",
    "    plt.ylabel('FPR',weight='bold',fontsize=10)\n",
    "    plt.title('RECEIVER OPERATING CHARACTERISTICS CURVE\\n',size=10,weight='bold',loc='center')\n",
    "    plt.show()\n",
    "    print('\\n')\n",
    "  #plotting confusion matrix\n",
    "    print('\\n\\n\\t____________________________________________CONFUSION MATRIX___________________________________________\\n')\n",
    "    sns.set(context='talk',style='whitegrid',palette='dark',font='monospace',font_scale=1)\n",
    "    plt.figure(figsize=(7,5),dpi=100)\n",
    "    sns.heatmap(conf,annot=True,fmt='.2f',vmax=1,vmin=0,cmap='nipy_spectral',linewidths=0.8, linecolor='blue')\n",
    "    plt.title('HEATMAP OF CONFUSION MATRIX\\n',size=18,weight='bold',loc='center')\n",
    "    plt.show()\n",
    "    print('\\n')\n",
    "    \n",
    "    ACCURACY.append(acc)\n",
    "    F1.append(f1)\n",
    "    PRECESION.append(pre)\n",
    "    RECALL.append(rec)\n",
    "    RMSE.append(rmse)\n",
    "    MSE.append(mse)\n",
    "    AUC.append(auc_scr)\n",
    "    TPR.append(tpr)\n",
    "    FPR.append(fpr)\n",
    "    LOG_LOSS.append(log)\n",
    "    \n",
    "#creating a dataframe to show the performance of the model\n",
    "\n",
    "pac_results = pd.DataFrame({\"LABELS\":labels,\"F1\":F1,'Acuracy':ACCURACY,'Precision': PRECESION ,'Recall': RECALL,\n",
    "                               'RMSE':RMSE,'MSE':MSE,'AUC':AUC,'LOG_LOSS':LOG_LOSS})\n",
    "                               \n",
    "pac_results.style.set_properties(**{'background-color':'black','color': 'lime','border-color': 'darkorange'})                                "
   ]
  },
  {
   "cell_type": "code",
   "execution_count": null,
   "id": "94b14929",
   "metadata": {},
   "outputs": [],
   "source": [
    "# MULTINOMIAL NB"
   ]
  },
  {
   "cell_type": "code",
   "execution_count": null,
   "id": "a0377188",
   "metadata": {},
   "outputs": [],
   "source": [
    "MNB_pipeline = Pipeline([('clf', OneVsRestClassifier(MultinomialNB(fit_prior=True, class_prior=None), n_jobs=-1))])\n",
    "F1=[]\n",
    "ACCURACY = []\n",
    "PRECESION = []\n",
    "RECALL = []\n",
    "RMSE = []\n",
    "MSE = []\n",
    "AUC=[]\n",
    "TPR=[]\n",
    "FPR=[]\n",
    "CV_ACC=[]\n",
    "LOG_LOSS=[]\n",
    "for category in labels:\n",
    "    print('Processing {}'.format(category))\n",
    "    print('-------------------------------------')\n",
    "    MNB_pipeline.fit(x_train, y_train[category])\n",
    "    pred = MNB_pipeline.predict(x_test)\n",
    "    f1=f1_score(pred,y_test[category])\n",
    "    acc=accuracy_score(pred,y_test[category])\n",
    "    clr=classification_report(y_test[category],pred)\n",
    "    pre=precision_score(y_test[category],pred)\n",
    "    rec=recall_score(y_test[category],pred)\n",
    "    mse=mean_squared_error(y_test[category],pred)\n",
    "    rmse=np.sqrt(mse)\n",
    "    log = log_loss( y_test[category],pred)\n",
    "    auc_scr=roc_auc_score(y_test[category],pred)\n",
    "    tpr,fpr,threshold=roc_curve(y_test[category],pred)\n",
    "    conf=confusion_matrix(y_test[category],pred)\n",
    "        \n",
    "\n",
    "    print('ACCURACY SCORE:', acc)\n",
    "    print('\\nF1 score:',f1)\n",
    "    print('\\nCLASSIFICATION REPORT:\\n',clr)\n",
    "    print('\\nPRECISION:\\n',pre)\n",
    "    print('\\nRECALL:\\n',rec)\n",
    "    print('\\nMEAN SQUARED ERROR:\\n',mse)\n",
    "    print('\\nROOT MEAN SQ. ERROR:\\n',rmse)\n",
    "    print('\\nLOG_LOSS:',log)\n",
    "    print('\\nAUC_ROC Score:\\n',auc_scr)\n",
    "    print('\\nTPR:',tpr,'\\nFPR:',fpr)\n",
    "    print('\\n')\n",
    "    #plotting the auc_roc curve\n",
    "    print('\\n\\n\\t____________________________________________ROC_AUC CURVE_______________________________________________')\n",
    "    print()\n",
    "    sns.set(context='talk',style='whitegrid',palette='dark',font='monospace',font_scale=1)\n",
    "    plt.figure(figsize=(8,3),dpi=120)\n",
    "    plt.plot([0,1],[0,1],color='lime',linestyle=\":\",lw=3)\n",
    "    plt.plot(tpr,fpr,label=\"AUC= %0.2f\" % auc_scr,color='deepskyblue',lw=3,linestyle='--')\n",
    "    plt.legend(fancybox=True,shadow=True, fontsize='medium')\n",
    "    \n",
    "    plt.xlabel(\"TPR\",weight='bold',fontsize=10)\n",
    "    plt.ylabel('FPR',weight='bold',fontsize=10)\n",
    "    plt.title('RECEIVER OPERATING CHARACTERISTICS CURVE\\n',size=10,weight='bold',loc='center')\n",
    "    plt.show()\n",
    "    print('\\n')\n",
    "  #plotting confusion matrix\n",
    "    print('\\n\\n\\t____________________________________________CONFUSION MATRIX___________________________________________\\n')\n",
    "    sns.set(context='talk',style='whitegrid',palette='dark',font='monospace',font_scale=1.3)\n",
    "    plt.figure(figsize=(7,5),dpi=120)\n",
    "    sns.heatmap(conf,annot=True,fmt='.2f',vmax=1,vmin=0,cmap='nipy_spectral',linewidths=0.8, linecolor='blue')\n",
    "    plt.title('HEATMAP OF CONFUSION MATRIX\\n',size=18,weight='bold',loc='center')\n",
    "    plt.show()\n",
    "    print('\\n')\n",
    "    \n",
    "    ACCURACY.append(acc)\n",
    "    F1.append(f1)\n",
    "    PRECESION.append(pre)\n",
    "    RECALL.append(rec)\n",
    "    RMSE.append(rmse)\n",
    "    MSE.append(mse)\n",
    "    AUC.append(auc_scr)\n",
    "    TPR.append(tpr)\n",
    "    FPR.append(fpr)\n",
    "    LOG_LOSS.append(log)\n",
    "    \n",
    "#creating a dataframe to show the performance of the model\n",
    "\n",
    "mnb_results = pd.DataFrame({\"LABELS\":labels,\"F1\":F1,'Acuracy':ACCURACY,'Precision': PRECESION ,'Recall': RECALL,\n",
    "                               'RMSE':RMSE,'MSE':MSE,'AUC':AUC,'LOG_LOSS':LOG_LOSS})\n",
    "                               \n",
    "mnb_results.style.set_properties(**{'background-color':'black','color': 'lime','border-color': 'darkorange'})      "
   ]
  },
  {
   "cell_type": "code",
   "execution_count": null,
   "id": "0a3b691a",
   "metadata": {},
   "outputs": [],
   "source": [
    "# COMPLEMENT NB"
   ]
  },
  {
   "cell_type": "code",
   "execution_count": null,
   "id": "a55db2bc",
   "metadata": {},
   "outputs": [],
   "source": [
    "CNB_pipeline = Pipeline([('clf', OneVsRestClassifier(ComplementNB(fit_prior=True, class_prior=None), n_jobs=-1))])\n",
    "F1=[]\n",
    "ACCURACY = []\n",
    "PRECESION = []\n",
    "RECALL = []\n",
    "RMSE = []\n",
    "MSE = []\n",
    "AUC=[]\n",
    "TPR=[]\n",
    "FPR=[]\n",
    "CV_ACC=[]\n",
    "LOG_LOSS=[]\n",
    "for category in labels:\n",
    "    print('Processing {}'.format(category))\n",
    "    print('-------------------------------------')\n",
    "    CNB_pipeline.fit(x_train, y_train[category])\n",
    "    pred = CNB_pipeline.predict(x_test)\n",
    "    f1=f1_score(pred,y_test[category])\n",
    "    acc=accuracy_score(pred,y_test[category])\n",
    "    clr=classification_report(y_test[category],pred)\n",
    "    pre=precision_score(y_test[category],pred)\n",
    "    rec=recall_score(y_test[category],pred)\n",
    "    mse=mean_squared_error(y_test[category],pred)\n",
    "    rmse=np.sqrt(mse)\n",
    "    log = log_loss( y_test[category],pred)\n",
    "    auc_scr=roc_auc_score(y_test[category],pred)\n",
    "    tpr,fpr,threshold=roc_curve(y_test[category],pred)\n",
    "    conf=confusion_matrix(y_test[category],pred)\n",
    "        \n",
    "\n",
    "    print('ACCURACY SCORE:', acc)\n",
    "    print('\\nF1 score:',f1)\n",
    "    print('\\nCLASSIFICATION REPORT:\\n',clr)\n",
    "    print('\\nPRECISION:\\n',pre)\n",
    "    print('\\nRECALL:\\n',rec)\n",
    "    print('\\nMEAN SQUARED ERROR:\\n',mse)\n",
    "    print('\\nROOT MEAN SQ. ERROR:\\n',rmse)\n",
    "    print('\\nLOG_LOSS:',log)\n",
    "    print('\\nAUC_ROC Score:\\n',auc_scr)\n",
    "    print('\\nTPR:',tpr,'\\nFPR:',fpr)\n",
    "    print('\\n')\n",
    "    #plotting the auc_roc curve\n",
    "    print('\\n\\n\\t____________________________________________ROC_AUC CURVE_______________________________________________')\n",
    "    print()\n",
    "    sns.set(context='talk',style='whitegrid',palette='dark',font='monospace',font_scale=1)\n",
    "    plt.figure(figsize=(8,3),dpi=120)\n",
    "    plt.plot([0,1],[0,1],color='lime',linestyle=\":\",lw=3)\n",
    "    plt.plot(tpr,fpr,label=\"AUC= %0.2f\" % auc_scr,color='deepskyblue',lw=3,linestyle='--')\n",
    "    plt.legend(fancybox=True,shadow=True, fontsize='medium')\n",
    "    \n",
    "    plt.xlabel(\"TPR\",weight='bold',fontsize=10)\n",
    "    plt.ylabel('FPR',weight='bold',fontsize=10)\n",
    "    plt.title('RECEIVER OPERATING CHARACTERISTICS CURVE\\n',size=10,weight='bold',loc='center')\n",
    "    plt.show()\n",
    "    print('\\n')\n",
    "  #plotting confusion matrix\n",
    "    print('\\n\\n\\t____________________________________________CONFUSION MATRIX___________________________________________\\n')\n",
    "    sns.set(context='talk',style='whitegrid',palette='dark',font='monospace',font_scale=1.3)\n",
    "    plt.figure(figsize=(7,4),dpi=120)\n",
    "    sns.heatmap(conf,annot=True,fmt='.2f',vmax=1,vmin=0,cmap='nipy_spectral',linewidths=0.8, linecolor='blue')\n",
    "    plt.title('HEATMAP OF CONFUSION MATRIX\\n',size=18,weight='bold',loc='center')\n",
    "    plt.show()\n",
    "    print('\\n')\n",
    "    ACCURACY.append(acc)\n",
    "    F1.append(f1)\n",
    "    PRECESION.append(pre)\n",
    "    RECALL.append(rec)\n",
    "    RMSE.append(rmse)\n",
    "    MSE.append(mse)\n",
    "    AUC.append(auc_scr)\n",
    "    TPR.append(tpr)\n",
    "    FPR.append(fpr)\n",
    "    LOG_LOSS.append(log)\n",
    "    \n",
    "#creating a dataframe to show the performance of the model\n",
    "cnb_results = pd.DataFrame({\"LABELS\":labels,\"F1\":F1,'Acuracy':ACCURACY,'Precision': PRECESION ,'Recall': RECALL,\n",
    "                               'RMSE':RMSE,'MSE':MSE,'AUC':AUC,'LOG_LOSS':LOG_LOSS})\n",
    "                               \n",
    "cnb_results.style.set_properties(**{'background-color':'black','color': 'lime','border-color': 'darkorange'})                                "
   ]
  },
  {
   "cell_type": "code",
   "execution_count": null,
   "id": "fe7c504c",
   "metadata": {},
   "outputs": [],
   "source": [
    "# LINEAR SVC"
   ]
  },
  {
   "cell_type": "code",
   "execution_count": null,
   "id": "55bf3236",
   "metadata": {},
   "outputs": [],
   "source": [
    "svc_pipeline = Pipeline([('clf', OneVsRestClassifier(ComplementNB(fit_prior=True, class_prior=None), n_jobs=-1))])\n",
    "F1=[]\n",
    "ACCURACY = []\n",
    "PRECESION = []\n",
    "RECALL = []\n",
    "RMSE = []\n",
    "MSE = []\n",
    "AUC=[]\n",
    "TPR=[]\n",
    "FPR=[]\n",
    "CV_ACC=[]\n",
    "LOG_LOSS=[]\n",
    "for category in labels:\n",
    "    print('Processing {}'.format(category))\n",
    "    print('-------------------------------------')\n",
    "    svc_pipeline.fit(x_train, y_train[category])\n",
    "    pred = svc_pipeline.predict(x_test)\n",
    "    f1=f1_score(pred,y_test[category])\n",
    "    acc=accuracy_score(pred,y_test[category])\n",
    "    clr=classification_report(y_test[category],pred)\n",
    "    pre=precision_score(y_test[category],pred)\n",
    "    rec=recall_score(y_test[category],pred)\n",
    "    mse=mean_squared_error(y_test[category],pred)\n",
    "    rmse=np.sqrt(mse)\n",
    "    log = log_loss( y_test[category],pred)\n",
    "    auc_scr=roc_auc_score(y_test[category],pred)\n",
    "    tpr,fpr,threshold=roc_curve(y_test[category],pred)\n",
    "    conf=confusion_matrix(y_test[category],pred)\n",
    "        \n",
    "\n",
    "    print('ACCURACY SCORE:', acc)\n",
    "    print('\\nF1 score:',f1)\n",
    "    print('\\nCLASSIFICATION REPORT:\\n',clr)\n",
    "    print('\\nPRECISION:\\n',pre)\n",
    "    print('\\nRECALL:\\n',rec)\n",
    "    print('\\nMEAN SQUARED ERROR:\\n',mse)\n",
    "    print('\\nROOT MEAN SQ. ERROR:\\n',rmse)\n",
    "    print('\\nLOG_LOSS:',log)\n",
    "    print('\\nAUC_ROC Score:\\n',auc_scr)\n",
    "    print('\\nTPR:',tpr,'\\nFPR:',fpr)\n",
    "    print('\\n')\n",
    "    #plotting the auc_roc curve\n",
    "    print('\\n\\n\\t____________________________________________ROC_AUC CURVE_______________________________________________')\n",
    "    print()\n",
    "    sns.set(context='talk',style='whitegrid',palette='dark',font='monospace',font_scale=1)\n",
    "    plt.figure(figsize=(8,3),dpi=120)\n",
    "    plt.plot([0,1],[0,1],color='lime',linestyle=\":\",lw=3)\n",
    "    plt.plot(tpr,fpr,label=\"AUC= %0.2f\" % auc_scr,color='deepskyblue',lw=3,linestyle='--')\n",
    "    plt.legend(fancybox=True,shadow=True, fontsize='medium')\n",
    "    \n",
    "    plt.xlabel(\"TPR\",weight='bold',fontsize=10)\n",
    "    plt.ylabel('FPR',weight='bold',fontsize=10)\n",
    "    plt.title('RECEIVER OPERATING CHARACTERISTICS CURVE\\n',size=10,weight='bold',loc='center')\n",
    "    plt.show()\n",
    "    print('\\n')\n",
    "  #plotting confusion matrix\n",
    "    print('\\n\\n\\t____________________________________________CONFUSION MATRIX___________________________________________\\n')\n",
    "    sns.set(context='talk',style='whitegrid',palette='dark',font='monospace',font_scale=1.3)\n",
    "    plt.figure(figsize=(7,4),dpi=120)\n",
    "    sns.heatmap(conf,annot=True,fmt='.2f',vmax=1,vmin=0,cmap='nipy_spectral',linewidths=0.8, linecolor='blue')\n",
    "    plt.title('HEATMAP OF CONFUSION MATRIX\\n',size=18,weight='bold',loc='center')\n",
    "    plt.show()\n",
    "    print('\\n')\n",
    "    ACCURACY.append(acc)\n",
    "    F1.append(f1)\n",
    "    PRECESION.append(pre)\n",
    "    RECALL.append(rec)\n",
    "    RMSE.append(rmse)\n",
    "    MSE.append(mse)\n",
    "    AUC.append(auc_scr)\n",
    "    TPR.append(tpr)\n",
    "    FPR.append(fpr)\n",
    "    LOG_LOSS.append(log)\n",
    "    \n",
    "#creating a dataframe to show the performance of the model\n",
    "lsvc_results = pd.DataFrame({\"LABELS\":labels,\"F1\":F1,'Acuracy':ACCURACY,'Precision': PRECESION ,'Recall': RECALL,\n",
    "                               'RMSE':RMSE,'MSE':MSE,'AUC':AUC,'LOG_LOSS':LOG_LOSS})\n",
    "                               \n",
    "lsvc_results.style.set_properties(**{'background-color':'black','color': 'lime','border-color': 'darkorange'})    "
   ]
  },
  {
   "cell_type": "code",
   "execution_count": null,
   "id": "b56d7d70",
   "metadata": {},
   "outputs": [],
   "source": []
  },
  {
   "cell_type": "code",
   "execution_count": null,
   "id": "a452084e",
   "metadata": {},
   "outputs": [],
   "source": [
    "#printing all the dataframe at one place\n",
    "\n",
    "print('\\nRESULTS OBTAINED FROM LOGISTIC REGRESSION\\n')\n",
    "display(logi_results)\n",
    "print('\\nRESULTS OBTAINED FROM PASSIVE AGGRESSIVE CLASSIFIER\\n')\n",
    "display(pac_results)\n",
    "print('\\nRESULTS OBTAINED FROM MULTINOMIAL NB\\n')\n",
    "display(mnb_results)\n",
    "print('\\nRESULTS OBTAINED FROM COMPLEMENT NB\\n')\n",
    "display(cnb_results)\n",
    "print('\\nRESULTS OBTAINED FROM LINER SVC\\n')\n",
    "display(lsvc_results)"
   ]
  },
  {
   "cell_type": "markdown",
   "id": "4f82096b",
   "metadata": {},
   "source": [
    "Based on the above results using  LOGISTIC REGESSION   as final model"
   ]
  },
  {
   "cell_type": "code",
   "execution_count": null,
   "id": "2ffe15a9",
   "metadata": {},
   "outputs": [],
   "source": [
    "LogReg_pipeline"
   ]
  },
  {
   "cell_type": "code",
   "execution_count": null,
   "id": "aa7d87d2",
   "metadata": {},
   "outputs": [],
   "source": [
    "joblib.dump(LogReg_pipeline,'MALIGNANT_COMMENT.pkl')"
   ]
  },
  {
   "cell_type": "code",
   "execution_count": null,
   "id": "3cab4aae",
   "metadata": {},
   "outputs": [],
   "source": [
    "#loading the model\n",
    "model=joblib.load('MALIGNANT_COMMENT.pkl')"
   ]
  },
  {
   "cell_type": "code",
   "execution_count": null,
   "id": "9f7e1f4d",
   "metadata": {},
   "outputs": [],
   "source": [
    "test.head(7)"
   ]
  },
  {
   "cell_type": "code",
   "execution_count": null,
   "id": "e3f20d4d",
   "metadata": {},
   "outputs": [],
   "source": [
    "X=test['comment']\n",
    "X"
   ]
  },
  {
   "cell_type": "code",
   "execution_count": null,
   "id": "3077d240",
   "metadata": {},
   "outputs": [],
   "source": [
    "tfidf=tf(input='content', encoding='utf-8', lowercase=True,stop_words='english',max_features=10000,ngram_range=(1,3))\n",
    "test_x=tfidf.fit_transform(X)"
   ]
  },
  {
   "cell_type": "code",
   "execution_count": null,
   "id": "fb4c0cc9",
   "metadata": {},
   "outputs": [],
   "source": [
    "test_x.shape"
   ]
  },
  {
   "cell_type": "code",
   "execution_count": null,
   "id": "ffc5de1c",
   "metadata": {},
   "outputs": [],
   "source": [
    "result=model.predict(test_x)"
   ]
  },
  {
   "cell_type": "code",
   "execution_count": null,
   "id": "bc8e7a0e",
   "metadata": {},
   "outputs": [],
   "source": [
    "display(result)"
   ]
  },
  {
   "cell_type": "code",
   "execution_count": null,
   "id": "e84f3db6",
   "metadata": {},
   "outputs": [],
   "source": []
  },
  {
   "cell_type": "code",
   "execution_count": null,
   "id": "f49a4c18",
   "metadata": {},
   "outputs": [],
   "source": []
  },
  {
   "cell_type": "code",
   "execution_count": null,
   "id": "aa6f5835",
   "metadata": {},
   "outputs": [],
   "source": []
  },
  {
   "cell_type": "code",
   "execution_count": null,
   "id": "9d1f28f0",
   "metadata": {},
   "outputs": [],
   "source": []
  },
  {
   "cell_type": "code",
   "execution_count": null,
   "id": "0c9d2101",
   "metadata": {},
   "outputs": [],
   "source": []
  },
  {
   "cell_type": "code",
   "execution_count": null,
   "id": "8fd81eb4",
   "metadata": {},
   "outputs": [],
   "source": []
  },
  {
   "cell_type": "code",
   "execution_count": null,
   "id": "0f872c1c",
   "metadata": {},
   "outputs": [],
   "source": []
  },
  {
   "cell_type": "code",
   "execution_count": null,
   "id": "6be572d7",
   "metadata": {},
   "outputs": [],
   "source": []
  }
 ],
 "metadata": {
  "kernelspec": {
   "display_name": "Python 3 (ipykernel)",
   "language": "python",
   "name": "python3"
  },
  "language_info": {
   "codemirror_mode": {
    "name": "ipython",
    "version": 3
   },
   "file_extension": ".py",
   "mimetype": "text/x-python",
   "name": "python",
   "nbconvert_exporter": "python",
   "pygments_lexer": "ipython3",
   "version": "3.9.11"
  }
 },
 "nbformat": 4,
 "nbformat_minor": 5
}
